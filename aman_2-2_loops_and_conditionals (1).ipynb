{
 "cells": [
  {
   "cell_type": "markdown",
   "metadata": {},
   "source": [
    "# Loops and conditionals\n",
    "\n",
    "## ``for`` loops\n",
    "\n",
    "We can perform many operations at once using ``for`` loops. A ``for`` loop takes an \"iterable\" -- e.g. a list or other object that can be iterated through. The ``for`` loop then iterates through each element in that list, performing operations on that element."
   ]
  },
  {
   "cell_type": "code",
   "execution_count": 110,
   "metadata": {},
   "outputs": [
    {
     "name": "stdout",
     "output_type": "stream",
     "text": [
      "0\n",
      "1\n",
      "2\n",
      "3\n",
      "4\n"
     ]
    }
   ],
   "source": [
    "# Print the numbers from 0 to 4\n",
    "for i in range(5):\n",
    "    print(i)"
   ]
  },
  {
   "cell_type": "markdown",
   "metadata": {},
   "source": [
    "Note that the above code makes use of the ``range()`` function, which produces an iterable object with values that cover a given range. If a single value ``a`` is passed to the function like so: ``range(a)``, then the values go from 0 (inclusive) to ``a`` (not inclusive).\n",
    "\n",
    "Alternatively, we can pass two values ``a`` and ``b`` to the function like so: ``range(a, b)``, then the values go from ``a`` (inclusive) to ``b`` (not inclusive). For example:"
   ]
  },
  {
   "cell_type": "code",
   "execution_count": 111,
   "metadata": {},
   "outputs": [
    {
     "name": "stdout",
     "output_type": "stream",
     "text": [
      "range(0, 5)\n",
      "[0, 1, 2, 3, 4]\n"
     ]
    }
   ],
   "source": [
    "print(range(5))\n",
    "print(list(range(5)))"
   ]
  },
  {
   "cell_type": "code",
   "execution_count": 112,
   "metadata": {},
   "outputs": [
    {
     "name": "stdout",
     "output_type": "stream",
     "text": [
      "range(7, 15)\n",
      "[7, 8, 9, 10, 11, 12, 13, 14]\n"
     ]
    }
   ],
   "source": [
    "print(range(7, 15))\n",
    "print(list(range(7, 15)))"
   ]
  },
  {
   "cell_type": "markdown",
   "metadata": {},
   "source": [
    "We can also obtain ranges with different step width:"
   ]
  },
  {
   "cell_type": "code",
   "execution_count": 113,
   "metadata": {},
   "outputs": [
    {
     "name": "stdout",
     "output_type": "stream",
     "text": [
      "range(7, 20, 2)\n",
      "[7, 9, 11, 13, 15, 17, 19]\n"
     ]
    }
   ],
   "source": [
    "print(range(7, 20, 2))\n",
    "print(list(range(7, 20, 2)))"
   ]
  },
  {
   "cell_type": "markdown",
   "metadata": {},
   "source": [
    "Here are some more examples of for loops:"
   ]
  },
  {
   "cell_type": "code",
   "execution_count": 114,
   "metadata": {},
   "outputs": [
    {
     "name": "stdout",
     "output_type": "stream",
     "text": [
      "3\n",
      "4\n",
      "5\n",
      "6\n",
      "7\n"
     ]
    }
   ],
   "source": [
    "# Add 3 to each of the numbers before printing\n",
    "for i in range(5):\n",
    "    print(i+3)"
   ]
  },
  {
   "cell_type": "code",
   "execution_count": 116,
   "metadata": {},
   "outputs": [
    {
     "name": "stdout",
     "output_type": "stream",
     "text": [
      "range(5, 10)\n",
      "20\n",
      "24\n",
      "28\n",
      "32\n",
      "36\n"
     ]
    }
   ],
   "source": [
    "iterable_list = range(5,10)\n",
    "print(iterable_list)\n",
    "\n",
    "# Multiply each number by 4 before printing\n",
    "for i in iterable_list:\n",
    "    print(4*i)"
   ]
  },
  {
   "cell_type": "markdown",
   "metadata": {},
   "source": [
    "Note that indented lines are important in Python for loops. Each of the lines within a for loop must always have the same indentation level:"
   ]
  },
  {
   "cell_type": "code",
   "execution_count": 117,
   "metadata": {},
   "outputs": [
    {
     "name": "stdout",
     "output_type": "stream",
     "text": [
      "5\n",
      "20\n",
      "6\n",
      "24\n",
      "7\n",
      "28\n",
      "8\n",
      "32\n",
      "9\n",
      "36\n"
     ]
    }
   ],
   "source": [
    "for i in iterable_list:\n",
    "    print(i)\n",
    "    print(4*i)"
   ]
  },
  {
   "cell_type": "markdown",
   "metadata": {},
   "source": [
    "When iterating through an iterable object in a for loop, we often want to use the index as well as the item at each step of the iteration. We can use the ``enumerate()`` function to do this:"
   ]
  },
  {
   "cell_type": "code",
   "execution_count": 118,
   "metadata": {},
   "outputs": [
    {
     "name": "stdout",
     "output_type": "stream",
     "text": [
      "my_tuple[0]: 9\n",
      "my_list[0]: 9\n",
      "my_tuple[1]: 8\n",
      "my_list[1]: 8\n",
      "my_tuple[2]: 7\n",
      "my_list[2]: 7\n",
      "my_tuple[3]: 6\n",
      "my_list[3]: 6\n"
     ]
    }
   ],
   "source": [
    "my_list = [9, 8, 7, 6]\n",
    "my_tuple = (4, 5, 'Hello', 2.43)\n",
    "\n",
    "for indx, item in enumerate(my_list):\n",
    "    print('my_tuple[%s]: %s' % (indx, item))\n",
    "    print('my_list[%s]: %s' % (indx, my_list[indx]))\n"
   ]
  },
  {
   "cell_type": "markdown",
   "metadata": {},
   "source": [
    "Note that the ``enumerate()`` function can be thought of as producing an iterable collection of tuples, where each tuple contains two values -- an item and its associated index. At each iteration step in the for loop, these values are assigned to the ``indx`` and ``item`` variables:"
   ]
  },
  {
   "cell_type": "code",
   "execution_count": 119,
   "metadata": {},
   "outputs": [
    {
     "name": "stdout",
     "output_type": "stream",
     "text": [
      "<enumerate object at 0x000001A85810C868>\n",
      "[(0, 4), (1, 5), (2, 'Hello'), (3, 2.43)]\n",
      "0\n"
     ]
    }
   ],
   "source": [
    "print(enumerate(my_tuple))\n",
    "print(list(enumerate(my_tuple)))\n",
    "l=list(enumerate(my_tuple))\n",
    "print(l[0][0])"
   ]
  },
  {
   "cell_type": "markdown",
   "metadata": {},
   "source": [
    "## List comprehensions\n",
    "\n",
    "Whenever we want to use a loop to generate a list, it is often better to use a *list comprehension* instead of a for loop, particularly for small for loops that contain only one or two lines. List comprehensions are a more compact, faster version of for loops. They have similar syntax, but are written in a single line:"
   ]
  },
  {
   "cell_type": "code",
   "execution_count": 120,
   "metadata": {},
   "outputs": [
    {
     "name": "stdout",
     "output_type": "stream",
     "text": [
      "[20, 24, 28, 32, 36]\n"
     ]
    }
   ],
   "source": [
    "j=[i*4 for i in iterable_list]\n",
    "print(j)"
   ]
  },
  {
   "cell_type": "markdown",
   "metadata": {},
   "source": [
    "The above line multiplies each element in the list ``iterable_list`` by 4, returning a new list. Note that the above list comprehension is equivalent to the following ``for`` loop solution, which builds the list in 3 lines instead of 1:"
   ]
  },
  {
   "cell_type": "code",
   "execution_count": 121,
   "metadata": {},
   "outputs": [
    {
     "name": "stdout",
     "output_type": "stream",
     "text": [
      "[20, 24, 28, 32, 36]\n"
     ]
    }
   ],
   "source": [
    "# Create an empty list\n",
    "new_list = []\n",
    "\n",
    "for i in iterable_list:\n",
    "    new_list += [i*4]  # Append each element of the list\n",
    "\n",
    "print(new_list)"
   ]
  },
  {
   "cell_type": "markdown",
   "metadata": {},
   "source": [
    "## Exercise 1:\n",
    "\n",
    "Write code that performs each of the following tasks, creating a new code cell for each:\n",
    "\n",
    "- write a for loop that divides each item in a list of input numbers by 3, assigning each value to a new list named ``l``,\n",
    "- write a list comprehension that does the same thing.\n",
    "\n",
    "The list comprehension solution should be more concise and readable than the for loop, and is usually more computationally efficient for building lists. Whenever you need to build a list with a loop, try to use a list comprehension rather than a for loop."
   ]
  },
  {
   "cell_type": "code",
   "execution_count": null,
   "metadata": {},
   "outputs": [],
   "source": [
    "# for loop"
   ]
  },
  {
   "cell_type": "code",
   "execution_count": 122,
   "metadata": {},
   "outputs": [
    {
     "name": "stdout",
     "output_type": "stream",
     "text": [
      "[-1.0, 0.0, 1.0, 2.0, 3.0, 4.0, 5.0, 6.0, 7.0, 8.0, 9.0]\n"
     ]
    }
   ],
   "source": [
    "l=[]\n",
    "for i in range(-3,30,3):\n",
    "    j=i/3\n",
    "    l+=[j]\n",
    "    \n",
    "print(l)"
   ]
  },
  {
   "cell_type": "code",
   "execution_count": 123,
   "metadata": {},
   "outputs": [
    {
     "name": "stdout",
     "output_type": "stream",
     "text": [
      "[-1.0, 0.0, 1.0, 2.0, 3.0, 4.0, 5.0, 6.0, 7.0, 8.0, 9.0]\n"
     ]
    }
   ],
   "source": [
    "# list comprehension\n",
    "l=[i/3 for i in range(-3,30,3)]\n",
    "print(l)"
   ]
  },
  {
   "cell_type": "markdown",
   "metadata": {},
   "source": [
    "## Conditionals\n",
    "\n",
    "Here is an example of a conditional statement:\n",
    "\n",
    "*Is x greater than y?*\n",
    "\n",
    "We can test whether any conditional statement is satisfied in Python and obtain a boolean value specifying whether the condition is satisfied (True) or not (False).\n",
    "\n",
    "Try to guess what value each of these conditionals will return before you run each cell:"
   ]
  },
  {
   "cell_type": "code",
   "execution_count": 160,
   "metadata": {},
   "outputs": [],
   "source": [
    "x = 1\n",
    "y = 3"
   ]
  },
  {
   "cell_type": "code",
   "execution_count": 125,
   "metadata": {},
   "outputs": [
    {
     "data": {
      "text/plain": [
       "False"
      ]
     },
     "execution_count": 125,
     "metadata": {},
     "output_type": "execute_result"
    }
   ],
   "source": [
    "# Is x equal to y?\n",
    "x == y"
   ]
  },
  {
   "cell_type": "code",
   "execution_count": 126,
   "metadata": {},
   "outputs": [
    {
     "data": {
      "text/plain": [
       "True"
      ]
     },
     "execution_count": 126,
     "metadata": {},
     "output_type": "execute_result"
    }
   ],
   "source": [
    "x != y"
   ]
  },
  {
   "cell_type": "code",
   "execution_count": 127,
   "metadata": {},
   "outputs": [
    {
     "data": {
      "text/plain": [
       "True"
      ]
     },
     "execution_count": 127,
     "metadata": {},
     "output_type": "execute_result"
    }
   ],
   "source": [
    "y == 3"
   ]
  },
  {
   "cell_type": "code",
   "execution_count": 128,
   "metadata": {},
   "outputs": [
    {
     "data": {
      "text/plain": [
       "False"
      ]
     },
     "execution_count": 128,
     "metadata": {},
     "output_type": "execute_result"
    }
   ],
   "source": [
    "x > y"
   ]
  },
  {
   "cell_type": "code",
   "execution_count": 132,
   "metadata": {},
   "outputs": [
    {
     "data": {
      "text/plain": [
       "True"
      ]
     },
     "execution_count": 132,
     "metadata": {},
     "output_type": "execute_result"
    }
   ],
   "source": [
    "x < y"
   ]
  },
  {
   "cell_type": "code",
   "execution_count": 133,
   "metadata": {},
   "outputs": [],
   "source": [
    "z = 3.0"
   ]
  },
  {
   "cell_type": "code",
   "execution_count": 134,
   "metadata": {},
   "outputs": [
    {
     "data": {
      "text/plain": [
       "True"
      ]
     },
     "execution_count": 134,
     "metadata": {},
     "output_type": "execute_result"
    }
   ],
   "source": [
    "y == z"
   ]
  },
  {
   "cell_type": "code",
   "execution_count": 135,
   "metadata": {},
   "outputs": [
    {
     "data": {
      "text/plain": [
       "False"
      ]
     },
     "execution_count": 135,
     "metadata": {},
     "output_type": "execute_result"
    }
   ],
   "source": [
    "y is z"
   ]
  },
  {
   "cell_type": "code",
   "execution_count": 136,
   "metadata": {},
   "outputs": [
    {
     "data": {
      "text/plain": [
       "False"
      ]
     },
     "execution_count": 136,
     "metadata": {},
     "output_type": "execute_result"
    }
   ],
   "source": [
    "y == '3'"
   ]
  },
  {
   "cell_type": "code",
   "execution_count": 137,
   "metadata": {},
   "outputs": [
    {
     "data": {
      "text/plain": [
       "True"
      ]
     },
     "execution_count": 137,
     "metadata": {},
     "output_type": "execute_result"
    }
   ],
   "source": [
    "str(y) == '3'"
   ]
  },
  {
   "cell_type": "code",
   "execution_count": 138,
   "metadata": {},
   "outputs": [
    {
     "data": {
      "text/plain": [
       "False"
      ]
     },
     "execution_count": 138,
     "metadata": {},
     "output_type": "execute_result"
    }
   ],
   "source": [
    "type(y) == tuple"
   ]
  },
  {
   "cell_type": "code",
   "execution_count": 139,
   "metadata": {},
   "outputs": [
    {
     "data": {
      "text/plain": [
       "False"
      ]
     },
     "execution_count": 139,
     "metadata": {},
     "output_type": "execute_result"
    }
   ],
   "source": [
    "type(y) == float"
   ]
  },
  {
   "cell_type": "code",
   "execution_count": 140,
   "metadata": {},
   "outputs": [
    {
     "data": {
      "text/plain": [
       "True"
      ]
     },
     "execution_count": 140,
     "metadata": {},
     "output_type": "execute_result"
    }
   ],
   "source": [
    "type(y) == int"
   ]
  },
  {
   "cell_type": "markdown",
   "metadata": {},
   "source": [
    "Now write a condition that checks if the sky_colour is blue:"
   ]
  },
  {
   "cell_type": "code",
   "execution_count": 141,
   "metadata": {},
   "outputs": [
    {
     "data": {
      "text/plain": [
       "True"
      ]
     },
     "execution_count": 141,
     "metadata": {},
     "output_type": "execute_result"
    }
   ],
   "source": [
    "sky_colour = 'blue'\n",
    "\n",
    "sky_colour == 'blue'\n"
   ]
  },
  {
   "cell_type": "markdown",
   "metadata": {},
   "source": [
    "Note that the below condition has slightly different spelling, with a capital \"B\". Since \"b\" and \"B\" are different characters, this should return False:"
   ]
  },
  {
   "cell_type": "code",
   "execution_count": 142,
   "metadata": {},
   "outputs": [
    {
     "data": {
      "text/plain": [
       "False"
      ]
     },
     "execution_count": 142,
     "metadata": {},
     "output_type": "execute_result"
    }
   ],
   "source": [
    "sky_colour == 'Blue'"
   ]
  },
  {
   "cell_type": "markdown",
   "metadata": {},
   "source": [
    "We can also combine multiple statements using logic operators such as ``and``, ``or``, ``not``, etc..."
   ]
  },
  {
   "cell_type": "code",
   "execution_count": 143,
   "metadata": {},
   "outputs": [
    {
     "data": {
      "text/plain": [
       "True"
      ]
     },
     "execution_count": 143,
     "metadata": {},
     "output_type": "execute_result"
    }
   ],
   "source": [
    "sky_colour == 'blue'  and  x == 1"
   ]
  },
  {
   "cell_type": "code",
   "execution_count": 144,
   "metadata": {},
   "outputs": [
    {
     "data": {
      "text/plain": [
       "False"
      ]
     },
     "execution_count": 144,
     "metadata": {},
     "output_type": "execute_result"
    }
   ],
   "source": [
    "sky_colour == 'blue'  and  x == 2"
   ]
  },
  {
   "cell_type": "code",
   "execution_count": 145,
   "metadata": {},
   "outputs": [
    {
     "data": {
      "text/plain": [
       "True"
      ]
     },
     "execution_count": 145,
     "metadata": {},
     "output_type": "execute_result"
    }
   ],
   "source": [
    "sky_colour == 'blue'  or  x == 2"
   ]
  },
  {
   "cell_type": "markdown",
   "metadata": {},
   "source": [
    "Also, the not operator flips the boolean value to the opposite value"
   ]
  },
  {
   "cell_type": "code",
   "execution_count": 146,
   "metadata": {},
   "outputs": [
    {
     "data": {
      "text/plain": [
       "False"
      ]
     },
     "execution_count": 146,
     "metadata": {},
     "output_type": "execute_result"
    }
   ],
   "source": [
    "not sky_colour == 'blue'"
   ]
  },
  {
   "cell_type": "markdown",
   "metadata": {},
   "source": [
    "We can also check if a list or other iterable contains a particular item:"
   ]
  },
  {
   "cell_type": "code",
   "execution_count": 147,
   "metadata": {},
   "outputs": [
    {
     "data": {
      "text/plain": [
       "False"
      ]
     },
     "execution_count": 147,
     "metadata": {},
     "output_type": "execute_result"
    }
   ],
   "source": [
    "2 in ['d', 3, 5, 234]"
   ]
  },
  {
   "cell_type": "code",
   "execution_count": 148,
   "metadata": {},
   "outputs": [
    {
     "data": {
      "text/plain": [
       "True"
      ]
     },
     "execution_count": 148,
     "metadata": {},
     "output_type": "execute_result"
    }
   ],
   "source": [
    "234 in ['d', 3, 5, 234]"
   ]
  },
  {
   "cell_type": "code",
   "execution_count": 149,
   "metadata": {},
   "outputs": [
    {
     "data": {
      "text/plain": [
       "True"
      ]
     },
     "execution_count": 149,
     "metadata": {},
     "output_type": "execute_result"
    }
   ],
   "source": [
    "4 in range(10)"
   ]
  },
  {
   "cell_type": "code",
   "execution_count": 150,
   "metadata": {},
   "outputs": [
    {
     "data": {
      "text/plain": [
       "False"
      ]
     },
     "execution_count": 150,
     "metadata": {},
     "output_type": "execute_result"
    }
   ],
   "source": [
    "100 in range(10)"
   ]
  },
  {
   "cell_type": "code",
   "execution_count": 151,
   "metadata": {},
   "outputs": [
    {
     "data": {
      "text/plain": [
       "False"
      ]
     },
     "execution_count": 151,
     "metadata": {},
     "output_type": "execute_result"
    }
   ],
   "source": [
    "10 in range(10)"
   ]
  },
  {
   "cell_type": "markdown",
   "metadata": {},
   "source": [
    "We can also check if a string contains a particular sub-string, starts with a particular sub-string, or ends with a particular sub-string:"
   ]
  },
  {
   "cell_type": "code",
   "execution_count": 152,
   "metadata": {},
   "outputs": [],
   "source": [
    "string = 'Supercalifragilisticexpialidocious'\n",
    "sub_string = 'x'"
   ]
  },
  {
   "cell_type": "code",
   "execution_count": 153,
   "metadata": {},
   "outputs": [
    {
     "data": {
      "text/plain": [
       "True"
      ]
     },
     "execution_count": 153,
     "metadata": {},
     "output_type": "execute_result"
    }
   ],
   "source": [
    "sub_string in string"
   ]
  },
  {
   "cell_type": "code",
   "execution_count": 154,
   "metadata": {},
   "outputs": [
    {
     "data": {
      "text/plain": [
       "False"
      ]
     },
     "execution_count": 154,
     "metadata": {},
     "output_type": "execute_result"
    }
   ],
   "source": [
    "'fragile' in string"
   ]
  },
  {
   "cell_type": "code",
   "execution_count": 155,
   "metadata": {},
   "outputs": [
    {
     "data": {
      "text/plain": [
       "True"
      ]
     },
     "execution_count": 155,
     "metadata": {},
     "output_type": "execute_result"
    }
   ],
   "source": [
    "'list' in string"
   ]
  },
  {
   "cell_type": "code",
   "execution_count": 156,
   "metadata": {},
   "outputs": [
    {
     "data": {
      "text/plain": [
       "False"
      ]
     },
     "execution_count": 156,
     "metadata": {},
     "output_type": "execute_result"
    }
   ],
   "source": [
    "string.startswith(sub_string)"
   ]
  },
  {
   "cell_type": "code",
   "execution_count": 157,
   "metadata": {},
   "outputs": [
    {
     "data": {
      "text/plain": [
       "True"
      ]
     },
     "execution_count": 157,
     "metadata": {},
     "output_type": "execute_result"
    }
   ],
   "source": [
    "string.startswith('S')"
   ]
  },
  {
   "cell_type": "code",
   "execution_count": 158,
   "metadata": {},
   "outputs": [
    {
     "data": {
      "text/plain": [
       "True"
      ]
     },
     "execution_count": 158,
     "metadata": {},
     "output_type": "execute_result"
    }
   ],
   "source": [
    "string.endswith('ocious')"
   ]
  },
  {
   "cell_type": "markdown",
   "metadata": {},
   "source": [
    "## ``if`` statements\n",
    "\n",
    "We can use ``if`` statements to set code to run only if a particular condition is True:"
   ]
  },
  {
   "cell_type": "code",
   "execution_count": 161,
   "metadata": {},
   "outputs": [
    {
     "name": "stdout",
     "output_type": "stream",
     "text": [
      "x is greater than 0\n"
     ]
    }
   ],
   "source": [
    "\n",
    "if x > 0:\n",
    "    print('x is greater than 0')"
   ]
  },
  {
   "cell_type": "markdown",
   "metadata": {},
   "source": [
    "Note that running the above cell does not output anything to the screen, because the condition returns False. Python only runs the code under the ``if`` statement if the condition is True. Change the above condition to ``x < 2`` and re-run it to see if it works.\n",
    "\n",
    "Here is an example where the condition is True:"
   ]
  },
  {
   "cell_type": "code",
   "execution_count": 162,
   "metadata": {},
   "outputs": [
    {
     "name": "stdout",
     "output_type": "stream",
     "text": [
      "\"x\" appears in the string \"Supercalifragilisticexpialidocious\"\n"
     ]
    }
   ],
   "source": [
    "if sub_string in string:\n",
    "    print('\"%s\" appears in the string \"%s\"' % (sub_string, string))"
   ]
  },
  {
   "cell_type": "markdown",
   "metadata": {},
   "source": [
    "In cases where the ``if`` condition is False, we can use the ``else`` keyword to specify some alternative code:"
   ]
  },
  {
   "cell_type": "code",
   "execution_count": 163,
   "metadata": {},
   "outputs": [
    {
     "name": "stdout",
     "output_type": "stream",
     "text": [
      "Sub-string not present\n"
     ]
    }
   ],
   "source": [
    "sub_string = 'super'\n",
    "\n",
    "if sub_string in string:\n",
    "    print('\"%s\" appears in the string \"%s\"' % (sub_string, string))\n",
    "else:\n",
    "    print('Sub-string not present')"
   ]
  },
  {
   "cell_type": "markdown",
   "metadata": {},
   "source": [
    "Now change the sub_string variable in the above cell to something which *is* present in \"Supercalifragilisticexpialidocious\", and re-run the cell to see what happens."
   ]
  },
  {
   "cell_type": "markdown",
   "metadata": {},
   "source": [
    "We can use the ``elif`` keyword to specify many different conditions, running a different piece of code for each condition (note that ``elif`` means \"else, if\"). Try to uncomment each ``weather = ...`` declaration line in the cell below, one at a time, and see what happens:"
   ]
  },
  {
   "cell_type": "code",
   "execution_count": 167,
   "metadata": {},
   "outputs": [
    {
     "name": "stdout",
     "output_type": "stream",
     "text": [
      "Better stay indoors or bring a flame thrower\n"
     ]
    }
   ],
   "source": [
    "# weather = 'sunny'\n",
    "# weather = 'cloudy'\n",
    "# weather = 'hail'\n",
    "#weather = 'showers'\n",
    "# weather = 'windy'\n",
    "# weather = 'stormy'\n",
    "weather = 'zombies'\n",
    "\n",
    "if weather == 'sunny' or weather == 'cloudy':\n",
    "    print('Looks good to head out')\n",
    "    \n",
    "elif weather == 'windy':\n",
    "    print('Bring a coat')\n",
    "    \n",
    "elif weather == 'showers' or weather == 'stormy':\n",
    "    print('Bring an umbrella')\n",
    "    \n",
    "else:\n",
    "    print('Better stay indoors or bring a flame thrower')"
   ]
  },
  {
   "cell_type": "markdown",
   "metadata": {},
   "source": [
    "Note that you can also include conditions within a list comprehension:"
   ]
  },
  {
   "cell_type": "code",
   "execution_count": 168,
   "metadata": {},
   "outputs": [
    {
     "name": "stdout",
     "output_type": "stream",
     "text": [
      "[5, 6, 7, 8, 9]\n"
     ]
    }
   ],
   "source": [
    "print(list(iterable_list))"
   ]
  },
  {
   "cell_type": "code",
   "execution_count": 170,
   "metadata": {},
   "outputs": [
    {
     "name": "stdout",
     "output_type": "stream",
     "text": [
      "[20, 24]\n"
     ]
    }
   ],
   "source": [
    "print([i*4 for i in iterable_list if i < 7])"
   ]
  },
  {
   "cell_type": "code",
   "execution_count": 173,
   "metadata": {},
   "outputs": [
    {
     "name": "stdout",
     "output_type": "stream",
     "text": [
      "[20, 24, 28, 8, 9]\n"
     ]
    }
   ],
   "source": [
    "print([i*4 if i <= 7 else i for i in iterable_list])"
   ]
  },
  {
   "cell_type": "markdown",
   "metadata": {},
   "source": [
    "## Exercise 2\n",
    "\n",
    "Write some code in the below cell which:\n",
    "- takes the variable ``sentence`` as input,\n",
    "- splits it into a list of words,\n",
    "- uses a ``for`` loop to:\n",
    "    - check whether each word is a digit (use the ``.isdigit()`` string method), or whether each word starts with an upper or lower case letter (use the methods ``.islower()`` and ``.isupper()``), and print the following text for each case:\n",
    "        - \"'[[word]]' is a digit\"\n",
    "        - \"'[[word]]' is capitalised\"\n",
    "        - \"'[[word]]' is not capitalised\""
   ]
  },
  {
   "cell_type": "code",
   "execution_count": 174,
   "metadata": {},
   "outputs": [
    {
     "name": "stdout",
     "output_type": "stream",
     "text": [
      "['The', '7', 'Wonders', 'of', 'the', 'World']\n",
      "The is capitalised\n",
      "7 is a digit\n",
      "Wonders is capitalised\n",
      "of is not capitalised\n",
      "the is not capitalised\n",
      "World is capitalised\n"
     ]
    }
   ],
   "source": [
    "sentence = 'The 7 Wonders of the World'\n",
    "new_sentence=sentence.split(' ');#split into list of words\n",
    "print(new_sentence)\n",
    "#for loop for classifying words\n",
    "for i,j in enumerate(new_sentence):\n",
    "    if j.isdigit():\n",
    "        print(j+' is a digit')\n",
    "    elif j[0].isupper():\n",
    "        print(j+' is capitalised')\n",
    "    elif j[0].islower():\n",
    "        print(j+' is not capitalised')"
   ]
  }
 ],
 "metadata": {
  "kernelspec": {
   "display_name": "Python 3",
   "language": "python",
   "name": "python3"
  },
  "language_info": {
   "codemirror_mode": {
    "name": "ipython",
    "version": 3
   },
   "file_extension": ".py",
   "mimetype": "text/x-python",
   "name": "python",
   "nbconvert_exporter": "python",
   "pygments_lexer": "ipython3",
   "version": "3.7.6"
  }
 },
 "nbformat": 4,
 "nbformat_minor": 4
}
