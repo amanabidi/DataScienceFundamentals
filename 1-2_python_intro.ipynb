{
 "cells": [
  {
   "cell_type": "markdown",
   "metadata": {},
   "source": [
    "# Python Intro\n",
    "\n",
    "## The Python programming language\n",
    "\n",
    "Here we will learn the basics of the Python programming language. A Python program is just a collection of text files that contain instructions which a computer can read and implement. These text files are referred to as \"source code\".\n",
    "\n",
    "When we run a program, the computer reads the text file and converts it into operations it can understand. The computer then performs the actions specified in the text file.\n",
    "\n",
    "Let's first consider a very simple program. It contains only a single line of Python source code, which uses the ``print()`` function to output a single line of text to the screen. To run the code, select the cell and press *Shift+Enter* or *Ctrl+Enter*:"
   ]
  },
  {
   "cell_type": "code",
   "execution_count": 74,
   "metadata": {},
   "outputs": [
    {
     "name": "stdout",
     "output_type": "stream",
     "text": [
      "Execution done\n"
     ]
    }
   ],
   "source": [
    "print('Execution done')"
   ]
  },
  {
   "cell_type": "markdown",
   "metadata": {},
   "source": [
    "The above code should have printed the phrase *Hello World!*. Note that you can change the text to whatever you want. Try changing the text now. Once you've changed the text, re-run the above cell by clicking on the cell and using *Shift+Enter*. The code should now output your new text below the cell.\n"
   ]
  },
  {
   "cell_type": "markdown",
   "metadata": {},
   "source": [
    "## Comments\n",
    "\n",
    "In Python, we can include comments in our code using the ``#`` character. Lines that begin with ``#`` are not processed by the computer. Comments are very helpful for describing what our code does, which is useful if someone else needs to read our code, or if we need to read our own code at a later date."
   ]
  },
  {
   "cell_type": "code",
   "execution_count": 105,
   "metadata": {},
   "outputs": [
    {
     "name": "stdout",
     "output_type": "stream",
     "text": [
      "Hello World!\n"
     ]
    }
   ],
   "source": [
    "# Print output to screen (this comment line will not be processed)\n",
    "\n",
    "print(\"Hello World!\")"
   ]
  },
  {
   "cell_type": "markdown",
   "metadata": {},
   "source": [
    "Now try adding the ``#`` to the start of the ``print(\"Hello World!\")`` line above (the shortcut to comment a line is *Ctrl + /* ). Then run the cell again. There should not be any output this time, because Python ignored the ``print()`` line."
   ]
  },
  {
   "cell_type": "markdown",
   "metadata": {},
   "source": [
    "## Errors\n",
    "\n",
    "When we make mistakes in our code, Python will attempt to provide information about the mistake in an error message:"
   ]
  },
  {
   "cell_type": "code",
   "execution_count": 65,
   "metadata": {},
   "outputs": [
    {
     "name": "stdout",
     "output_type": "stream",
     "text": [
      "This string has no trailing apostrophe\n"
     ]
    }
   ],
   "source": [
    "print('This string has no trailing apostrophe')"
   ]
  },
  {
   "cell_type": "markdown",
   "metadata": {},
   "source": [
    "The above line produces a syntax error, which means the code is not written correctly. In this case, the string is missing an apostrophe. Fix the above line so that the code runs without error.\n",
    "\n",
    "I have intentionally included a lot of errors throughout this course so that you receive a lot of experience with debugging code, which is an important part of learning programming. Having to fix broken code is also a great way to challenge and improve your understanding.\n",
    "\n",
    "***Throughout these notebooks, you should fix all errors before moving on to the next cell.***"
   ]
  },
  {
   "cell_type": "markdown",
   "metadata": {},
   "source": [
    "## Variables and data types\n",
    "\n",
    "A variable stores data in memory, such as numbers or text. Let's create some variables and then output their values:"
   ]
  },
  {
   "cell_type": "code",
   "execution_count": 66,
   "metadata": {},
   "outputs": [
    {
     "name": "stdout",
     "output_type": "stream",
     "text": [
      "1\n"
     ]
    }
   ],
   "source": [
    "x = 1\n",
    "print(x)"
   ]
  },
  {
   "cell_type": "code",
   "execution_count": 67,
   "metadata": {},
   "outputs": [
    {
     "name": "stdout",
     "output_type": "stream",
     "text": [
      "7\n",
      "38\n",
      "45\n"
     ]
    }
   ],
   "source": [
    "x = 7\n",
    "y = 38\n",
    "print(x)\n",
    "print(y)\n",
    "\n",
    "val = x + y\n",
    "print(val)"
   ]
  },
  {
   "cell_type": "code",
   "execution_count": 69,
   "metadata": {},
   "outputs": [
    {
     "name": "stdout",
     "output_type": "stream",
     "text": [
      "Swinburne University of Technology\n"
     ]
    }
   ],
   "source": [
    "university_name = 'Swinburne University of Technology'\n",
    "print(university_name)"
   ]
  },
  {
   "cell_type": "markdown",
   "metadata": {},
   "source": [
    "Each variable has a particular data type, such as string or integer. Here are a few examples of common data types:"
   ]
  },
  {
   "cell_type": "code",
   "execution_count": 70,
   "metadata": {},
   "outputs": [
    {
     "name": "stdout",
     "output_type": "stream",
     "text": [
      "Data Science Fundamentals\n",
      "2020\n",
      "3.14\n",
      "True\n"
     ]
    }
   ],
   "source": [
    "# String variable (a sequence of text)\n",
    "course_name = 'Data Science Fundamentals'\n",
    "print(course_name)\n",
    "\n",
    "# Integer variable (a whole number)\n",
    "year = 2020\n",
    "print(year)\n",
    "\n",
    "# Floating point (A.K.A. float) variable (a decimal number)\n",
    "pi = 3.14\n",
    "print(pi)\n",
    "\n",
    "# Boolean variable (either True or False)\n",
    "awake = True\n",
    "print(awake)"
   ]
  },
  {
   "cell_type": "markdown",
   "metadata": {},
   "source": [
    "Note that we can perform arithmetic operations on numerical variables, such as integer numbers (e.g. 7) and floating point numbers (e.g. 7.923):"
   ]
  },
  {
   "cell_type": "code",
   "execution_count": 71,
   "metadata": {},
   "outputs": [
    {
     "data": {
      "text/plain": [
       "13.2"
      ]
     },
     "execution_count": 71,
     "metadata": {},
     "output_type": "execute_result"
    }
   ],
   "source": [
    "x = 4\n",
    "y = 9.2\n",
    "\n",
    "x + y"
   ]
  },
  {
   "cell_type": "code",
   "execution_count": 78,
   "metadata": {},
   "outputs": [
    {
     "name": "stdout",
     "output_type": "stream",
     "text": [
      "-5.199999999999999\n",
      "-5.2\n"
     ]
    }
   ],
   "source": [
    "z=x-y\n",
    "print(z)\n",
    "print(\"%0.1f\" % z)\n"
   ]
  },
  {
   "cell_type": "code",
   "execution_count": 79,
   "metadata": {},
   "outputs": [
    {
     "data": {
      "text/plain": [
       "36.8"
      ]
     },
     "execution_count": 79,
     "metadata": {},
     "output_type": "execute_result"
    }
   ],
   "source": [
    "x * y"
   ]
  },
  {
   "cell_type": "code",
   "execution_count": 84,
   "metadata": {},
   "outputs": [
    {
     "name": "stdout",
     "output_type": "stream",
     "text": [
      "0.4347826086956522\n",
      "0.4\n"
     ]
    }
   ],
   "source": [
    "z=x / y\n",
    "print(z)\n",
    "print(\"%0.1f\" % z)"
   ]
  },
  {
   "cell_type": "code",
   "execution_count": 85,
   "metadata": {},
   "outputs": [
    {
     "data": {
      "text/plain": [
       "1.1999999999999993"
      ]
     },
     "execution_count": 85,
     "metadata": {},
     "output_type": "execute_result"
    }
   ],
   "source": [
    "y % x  # Use % (the \"modulo\" operator) to get the remainder of a division"
   ]
  },
  {
   "cell_type": "code",
   "execution_count": 86,
   "metadata": {},
   "outputs": [
    {
     "data": {
      "text/plain": [
       "16"
      ]
     },
     "execution_count": 86,
     "metadata": {},
     "output_type": "execute_result"
    }
   ],
   "source": [
    "x ** 2  # Two asterixes between any variables x and i denotes x to the power of i (i.e. this is x^2)"
   ]
  },
  {
   "cell_type": "markdown",
   "metadata": {},
   "source": [
    "Note that the values assigned ``x`` and ``y`` are persistent across different cells. This is true of all variables in a given IPython notebook.\n",
    "\n",
    "We can change the value of variables. Change the value of the ``season`` variable in the code below to something other than Purple (you will also need to fix any errors):"
   ]
  },
  {
   "cell_type": "code",
   "execution_count": 87,
   "metadata": {},
   "outputs": [
    {
     "name": "stdout",
     "output_type": "stream",
     "text": [
      "Summer\n",
      "Autumn\n",
      "Winter\n"
     ]
    }
   ],
   "source": [
    "season = 'Summer'\n",
    "print(season)\n",
    "\n",
    "# New value for season\n",
    "season = 'Autumn'\n",
    "\n",
    "# Print out the second season:\n",
    "print(season)\n",
    "\n",
    "# Now change the value of season to something else:\n",
    "season='Winter'\n",
    "\n",
    "course_name='X'\n",
    "# Print out the third season\n",
    "print(season)"
   ]
  },
  {
   "cell_type": "markdown",
   "metadata": {},
   "source": [
    "We can concatenate different string variables using the *+* operator:"
   ]
  },
  {
   "cell_type": "code",
   "execution_count": 88,
   "metadata": {},
   "outputs": [
    {
     "name": "stdout",
     "output_type": "stream",
     "text": [
      "Let's learn X!\n"
     ]
    }
   ],
   "source": [
    "sentence = \"Let's learn \" + course_name + '!'\n",
    "print(sentence)"
   ]
  },
  {
   "cell_type": "markdown",
   "metadata": {},
   "source": [
    "Note that if we attempt to include the ``year`` variable, we obtain an error:"
   ]
  },
  {
   "cell_type": "code",
   "execution_count": 89,
   "metadata": {},
   "outputs": [
    {
     "name": "stdout",
     "output_type": "stream",
     "text": [
      "Let's learn X in 2020\n"
     ]
    }
   ],
   "source": [
    "year=str(year)\n",
    "sentence = \"Let's learn \" + course_name + ' in ' + year\n",
    "print(sentence)"
   ]
  },
  {
   "cell_type": "markdown",
   "metadata": {},
   "source": [
    "This is because the year variable is an *integer*, not a *string*. We can convert it to a string using the ``str()`` function; i.e. change the word ``year`` in the above code to ``str(year)``, then re-run the above cell to check that it works.\n",
    "\n",
    "Note that we can check the type of a given variable using the type() function:"
   ]
  },
  {
   "cell_type": "code",
   "execution_count": 90,
   "metadata": {},
   "outputs": [
    {
     "name": "stdout",
     "output_type": "stream",
     "text": [
      "<class 'str'>\n",
      "<class 'str'>\n",
      "<class 'str'>\n",
      "<class 'float'>\n",
      "<class 'str'>\n"
     ]
    }
   ],
   "source": [
    "print(type(sentence))\n",
    "print(type(course_name))\n",
    "print(type(year))\n",
    "print(type(2.8))\n",
    "print(type(''))"
   ]
  },
  {
   "cell_type": "markdown",
   "metadata": {},
   "source": [
    "Now write code in the cell below that checks that data type of the variables ``a`` and ``b``:"
   ]
  },
  {
   "cell_type": "code",
   "execution_count": 91,
   "metadata": {},
   "outputs": [
    {
     "name": "stdout",
     "output_type": "stream",
     "text": [
      "<class 'bool'>\n",
      "<class 'str'>\n"
     ]
    }
   ],
   "source": [
    "a = True\n",
    "b = 'True'\n",
    "\n",
    "print(type(a))\n",
    "print(type(b))\n"
   ]
  },
  {
   "cell_type": "markdown",
   "metadata": {},
   "source": [
    "Are the data types the same? Why? No, because boolean values can only be true and false, while string can be assigned any value."
   ]
  },
  {
   "cell_type": "markdown",
   "metadata": {},
   "source": [
    "## Printing vs. automatic IPython variable output\n",
    "\n",
    "The Jupyter Notebook and Jupyter Lab programs will automatically print a variable's value if a line contains only the name of a variable:"
   ]
  },
  {
   "cell_type": "code",
   "execution_count": 92,
   "metadata": {},
   "outputs": [
    {
     "data": {
      "text/plain": [
       "\"Let's learn X in 2020\""
      ]
     },
     "execution_count": 92,
     "metadata": {},
     "output_type": "execute_result"
    }
   ],
   "source": [
    "sentence"
   ]
  },
  {
   "cell_type": "markdown",
   "metadata": {},
   "source": [
    "But if there are multiple lines containing just the name of a variable, only the last one will be output to screen:"
   ]
  },
  {
   "cell_type": "code",
   "execution_count": 93,
   "metadata": {},
   "outputs": [
    {
     "data": {
      "text/plain": [
       "'Winter'"
      ]
     },
     "execution_count": 93,
     "metadata": {},
     "output_type": "execute_result"
    }
   ],
   "source": [
    "sentence\n",
    "\n",
    "season"
   ]
  },
  {
   "cell_type": "markdown",
   "metadata": {},
   "source": [
    "However, this is not usually the case when running Python programs; in many Python interpreters the above line will not produce any output at all. Instead, we usually have to specify when we want to output a value to the screen using the ``print()`` function:"
   ]
  },
  {
   "cell_type": "code",
   "execution_count": 94,
   "metadata": {},
   "outputs": [
    {
     "name": "stdout",
     "output_type": "stream",
     "text": [
      "Let's learn X in 2020\n",
      "Winter\n"
     ]
    }
   ],
   "source": [
    "print(sentence)\n",
    "\n",
    "print(season)"
   ]
  },
  {
   "cell_type": "markdown",
   "metadata": {},
   "source": [
    "## Combining strings\n",
    "\n",
    "We can combine variables with strings, and there are multiple methods of accomplishing this and altering string formatting in Python. Below we show a couple of common methods for concatenating strings and variable values.\n",
    "\n",
    "1. Using the ``%`` operator to insert variable values into a string:"
   ]
  },
  {
   "cell_type": "code",
   "execution_count": 100,
   "metadata": {},
   "outputs": [
    {
     "name": "stdout",
     "output_type": "stream",
     "text": [
      "My name is Aman Abidi, and I am 176 cm tall.\n"
     ]
    }
   ],
   "source": [
    "# Create variables containing your name and height (just estimate your height in cm)\n",
    "name = 'Aman Abidi'\n",
    "height = 176\n",
    "\n",
    "# Include the variables in a sentence and print the resulting string\n",
    "text = 'My name is %s, and I am %i cm tall.' % (name, height)\n",
    "print(text)"
   ]
  },
  {
   "cell_type": "markdown",
   "metadata": {},
   "source": [
    "2. Using the string method ``.format()`` to insert variables values into a string:"
   ]
  },
  {
   "cell_type": "code",
   "execution_count": 101,
   "metadata": {},
   "outputs": [
    {
     "name": "stdout",
     "output_type": "stream",
     "text": [
      "My name is Aman Abidi, and I am 176 cm tall.\n"
     ]
    }
   ],
   "source": [
    "# Include the variables in a sentence and print the resulting string\n",
    "text = 'My name is {}, and I am {} cm tall.'.format(name, height)\n",
    "print(text)"
   ]
  },
  {
   "cell_type": "code",
   "execution_count": 102,
   "metadata": {},
   "outputs": [
    {
     "name": "stdout",
     "output_type": "stream",
     "text": [
      "My name is Aman Abidi, and I am 176 cm tall. Aman Abidi 176 176 176\n"
     ]
    }
   ],
   "source": [
    "# Note with .format() we can also specify a different order that each variable appears in the string\n",
    "text = 'My name is {0}, and I am {1} cm tall. {0} {1} {1} {1}'.format(name, height)\n",
    "print(text)"
   ]
  },
  {
   "cell_type": "markdown",
   "metadata": {},
   "source": [
    "3. Using ``+`` to concatenate strings:"
   ]
  },
  {
   "cell_type": "code",
   "execution_count": 104,
   "metadata": {},
   "outputs": [
    {
     "name": "stdout",
     "output_type": "stream",
     "text": [
      "My name is Aman Abidi, and I am 176 cm tall.\n"
     ]
    }
   ],
   "source": [
    "# Include the variables in a sentence and print the resulting string\n",
    "text = 'My name is ' + name + ', and I am ' + str(height) + ' cm tall.'\n",
    "print(text)"
   ]
  },
  {
   "cell_type": "markdown",
   "metadata": {},
   "source": [
    "Strings can also be multi-line strings if we use three quotation marks before and after the string (instead of one):"
   ]
  },
  {
   "cell_type": "code",
   "execution_count": 109,
   "metadata": {},
   "outputs": [
    {
     "name": "stdout",
     "output_type": "stream",
     "text": [
      "\n",
      "My name is Aman Abidi.\n",
      "\n",
      "I am 176 cm tall.\n",
      "\n"
     ]
    }
   ],
   "source": [
    "# A multi-line string\n",
    "text = '''\n",
    "My name is {}.\n",
    "\n",
    "I am {} cm tall.\n",
    "'''\n",
    "\n",
    "text = text.format(name, height)\n",
    "\n",
    "print(text)"
   ]
  },
  {
   "cell_type": "code",
   "execution_count": 110,
   "metadata": {},
   "outputs": [
    {
     "name": "stdout",
     "output_type": "stream",
     "text": [
      "\n",
      "V\n",
      "e\n",
      "r\n",
      "t\n",
      "i\n",
      "c\n",
      "a\n",
      "l\n",
      "\n",
      " o o\n",
      "\\___/\n",
      "\n",
      "\n"
     ]
    }
   ],
   "source": [
    "# Another multi-line string\n",
    "text = '''\n",
    "V\n",
    "e\n",
    "r\n",
    "t\n",
    "i\n",
    "c\n",
    "a\n",
    "l\n",
    "\n",
    " o o\n",
    "\\___/\n",
    "\n",
    "'''\n",
    "\n",
    "print(text)"
   ]
  },
  {
   "cell_type": "markdown",
   "metadata": {},
   "source": [
    "## The ``+=`` operator\n",
    "\n",
    "Note that if we want to append one string to the end of another like so:"
   ]
  },
  {
   "cell_type": "code",
   "execution_count": 111,
   "metadata": {},
   "outputs": [
    {
     "name": "stdout",
     "output_type": "stream",
     "text": [
      "Hello \n",
      "Hello World!\n"
     ]
    }
   ],
   "source": [
    "a = 'Hello '\n",
    "b = 'World!'\n",
    "print(a)\n",
    "a = a + b\n",
    "print(a)"
   ]
  },
  {
   "cell_type": "markdown",
   "metadata": {},
   "source": [
    "we can instead use the ``+=`` operator:"
   ]
  },
  {
   "cell_type": "code",
   "execution_count": 112,
   "metadata": {},
   "outputs": [
    {
     "name": "stdout",
     "output_type": "stream",
     "text": [
      "Hello \n",
      "Hello World!\n"
     ]
    }
   ],
   "source": [
    "a = 'Hello '\n",
    "print(a)\n",
    "a += b  # this is equivalent to: a = a + b\n",
    "print(a)"
   ]
  },
  {
   "cell_type": "markdown",
   "metadata": {},
   "source": [
    "Note that the ``+=`` operator also comes in handy when we want to increment numbers:"
   ]
  },
  {
   "cell_type": "code",
   "execution_count": 113,
   "metadata": {},
   "outputs": [
    {
     "name": "stdout",
     "output_type": "stream",
     "text": [
      "0\n",
      "1\n",
      "2\n",
      "3\n"
     ]
    }
   ],
   "source": [
    "x = 0\n",
    "print(x)\n",
    "\n",
    "x += 1  # this is equivalent to: x = x + 1\n",
    "print(x)\n",
    "\n",
    "x += 1\n",
    "print(x)\n",
    "\n",
    "x += 1\n",
    "print(x)"
   ]
  },
  {
   "cell_type": "markdown",
   "metadata": {},
   "source": [
    "And similarly for decrementing numbers:"
   ]
  },
  {
   "cell_type": "code",
   "execution_count": 114,
   "metadata": {},
   "outputs": [
    {
     "name": "stdout",
     "output_type": "stream",
     "text": [
      "10\n",
      "9\n",
      "8\n",
      "6\n",
      "2.3\n",
      "-4.7\n"
     ]
    }
   ],
   "source": [
    "x = 10\n",
    "print(x)\n",
    "\n",
    "x -= 1  # this is equivalent to: x = x - 1\n",
    "print(x)\n",
    "\n",
    "v=x\n",
    "\n",
    "\n",
    "v -= 1\n",
    "print(v)\n",
    "\n",
    "v -= 2\n",
    "print(v)\n",
    "\n",
    "v -= 3.7\n",
    "print(v)\n",
    "\n",
    "v -= 7\n",
    "print(v)"
   ]
  },
  {
   "cell_type": "markdown",
   "metadata": {},
   "source": [
    "Note: It may be difficult to find which specific line the above error refers to (line 8). In Jupyter Lab, you can show line numbers in each cell by clicking on the \"View\" menu and selecting \"Show Line Numbers\"."
   ]
  },
  {
   "cell_type": "markdown",
   "metadata": {},
   "source": [
    "# Exercise 1\n",
    "\n",
    "Create a new code cell below this cell (the shortcut to create a new cell is *Esc+b* for below the current cell, and *Esc+a* for above). In the new cell, write code that does the following:\n",
    "\n",
    "HINT: Before your write any code, write several short comments which describe what each section of code will do. This is a useful way to both help structure your coding and to produce comments that describe what your code does.\n",
    "\n",
    "1. Create two variables called *x* and *y*, and set them equal to two different numbers (any numbers you want)\n",
    "\n",
    "2. Add x and y together, and store the summed value in a variable named *z*\n",
    "\n",
    "3. Print the two numbers in a string that says \"The addition of [x] and [y] is [z]\"\n",
    "\n",
    "4. Repeat step 3 above, but use each of the three different methods for combining strings, i.e.:\n",
    "    - using the ``%`` operator,\n",
    "    - using the ``.format()`` method,\n",
    "    - using the ``+`` operator.\n",
    "    \n",
    "   Which method has cleaner syntax for this particular task? I think .format() has a cleaner syntax. \n",
    "   \n",
    "5. Use the ``+=`` operator to add the x value to z again, and print the resulting value of z\n",
    "\n",
    "6. Change the value of x to 26, then re-run the code\n",
    "\n",
    "7. Calculate $z^2$ and print the value\n",
    "\n",
    "8. Print the data types of x, y, and z"
   ]
  },
  {
   "cell_type": "code",
   "execution_count": 131,
   "metadata": {},
   "outputs": [
    {
     "name": "stdout",
     "output_type": "stream",
     "text": [
      "The addition of 26 and 20 is 46\n"
     ]
    }
   ],
   "source": [
    "x=26\n",
    "y=20\n",
    "z=x+y\n",
    "temp='The addition of ' +str(x)+' and ' +str(y)+' is '+str(z)\n",
    "print(temp)"
   ]
  },
  {
   "cell_type": "code",
   "execution_count": 117,
   "metadata": {},
   "outputs": [
    {
     "name": "stdout",
     "output_type": "stream",
     "text": [
      "The addition of 10 and 20 is 30.\n"
     ]
    }
   ],
   "source": [
    "temp = 'The addition of %i and %i is %i.' % (x,y,z)\n",
    "print(temp)\n"
   ]
  },
  {
   "cell_type": "code",
   "execution_count": 118,
   "metadata": {},
   "outputs": [
    {
     "name": "stdout",
     "output_type": "stream",
     "text": [
      "The addition of 10 and 20 is 30.\n"
     ]
    }
   ],
   "source": [
    "temp='The addition of {} and {} is {}.'.format(x,y,z)\n",
    "print(temp)"
   ]
  },
  {
   "cell_type": "code",
   "execution_count": 132,
   "metadata": {},
   "outputs": [
    {
     "name": "stdout",
     "output_type": "stream",
     "text": [
      "Updated value of z is 72\n"
     ]
    }
   ],
   "source": [
    "z+=x\n",
    "print('Updated value of z is '+str(z))"
   ]
  },
  {
   "cell_type": "code",
   "execution_count": 133,
   "metadata": {},
   "outputs": [
    {
     "name": "stdout",
     "output_type": "stream",
     "text": [
      "72\n",
      "5184\n"
     ]
    }
   ],
   "source": [
    "print(z)\n",
    "print(z**2)"
   ]
  },
  {
   "cell_type": "code",
   "execution_count": 134,
   "metadata": {},
   "outputs": [
    {
     "name": "stdout",
     "output_type": "stream",
     "text": [
      "<class 'int'>\n",
      "<class 'int'>\n",
      "<class 'int'>\n"
     ]
    }
   ],
   "source": [
    "print(type(x))\n",
    "print(type(y))\n",
    "print(type(z))"
   ]
  }
 ],
 "metadata": {
  "kernelspec": {
   "display_name": "Python 3",
   "language": "python",
   "name": "python3"
  },
  "language_info": {
   "codemirror_mode": {
    "name": "ipython",
    "version": 3
   },
   "file_extension": ".py",
   "mimetype": "text/x-python",
   "name": "python",
   "nbconvert_exporter": "python",
   "pygments_lexer": "ipython3",
   "version": "3.7.6"
  }
 },
 "nbformat": 4,
 "nbformat_minor": 4
}
