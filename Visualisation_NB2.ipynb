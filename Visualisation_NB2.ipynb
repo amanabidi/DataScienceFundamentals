{
 "cells": [
  {
   "cell_type": "markdown",
   "metadata": {},
   "source": [
    "# Data Visualisation Basics\n",
    "\n",
    "### A basic Python toolkit\n",
    "\n",
    "For a data scientist working in Python/Pandas, there are two principal visualisation tools.\n",
    "\n",
    "One of these tools is the built-in Pandas plotting capabilities. These are convenient built-in methods, which make it easy to create quick plots from Pandas dataframes, without much code. We have already previewed these in the first section, and we will see them more below.\n",
    "\n",
    "However, we will emphasise examples of creating plots using the Matplotlib plotting library. Matplotlib is the most widely-used and general-purpose Python visualisation library, and perhaps the most powerful. As such, it is important to get to grips with, and a great way to learn the fundamentals of Python visualisation (later, we'll also discuss other visualisation libraries and tools, in Python and beyond).\n",
    "\n",
    "So, how do we use these tools to make data visualisations? And how do we make *good* data visualisations?\n",
    "\n",
    "Today's workbooks will look at some basic answers to these questions, and on Tuesday we will delve into some more advanced examples. \n",
    "\n",
    "Throughout, you should execute the code cells, and try to solve any errors that you run into."
   ]
  },
  {
   "cell_type": "markdown",
   "metadata": {},
   "source": [
    "### Where do I start with data visualisation?\n",
    "\n",
    "The general answer here is to be guided by your data: choosing a type of visualisation that suits your data, and your purpose in visualising it, is crucial. This course will give you examples of important types of visualisation, and discuss what they are best suited for. \n",
    "\n",
    "Some of the major considerations here include:\n",
    "\n",
    "* Is your data qualitative, or quantitative? \n",
    "* If quantitative, is your data continuous or discrete?\n",
    "* What inherent relationships exist in the data?\n",
    "\n",
    "Typically, guides to data visualisation focus principally on quantitiative data. This is not to say you can't make great figures using qualitative data! However, such visualisations are often more appropriately classified as \"information visualisations\" or \"information graphics\". Although the distinction is a blurry one, these graphics (for example, flow charts, mind maps, dendrograms, and most types of \"diagrams\") are usually considered separately to from data visualisation/scientific visualisation.\n",
    "\n",
    "Accordingly, this discussion will focus on examples using quantitative data. We will use data from the City of Melbourne's Open Data Portal to demonstrate various key types of visualisation, and when they should be used.\n"
   ]
  },
  {
   "cell_type": "markdown",
   "metadata": {},
   "source": [
    "### Scatter Plots - Part I\n",
    "\n",
    "A scatter plot is one of the simplest, but most powerful, types of visualisation. A scatter plot represents the relationship between two variables, x and y, by marking points on a (usually) Cartesian plane. \n",
    "\n",
    "A point is marked at the coordinate ($x_{i}, y_{i}$), for each row $i$ in your data set.\n",
    "\n",
    "A scatter plot is suitable for any two variables x and y - but particularly suitable for discrete data.\n",
    "\n",
    "By inspecting the distribution of the points, we can infer what relationship (if any) exists between x and y. This is the approach we used in the last notebook, to identify different relationships between the four datasets of Anscombe's Quartet.\n",
    "\n",
    "This time, let's take some example data from the City of Melbourne CLUE survey, which profiles various Melbourne suburbs on key demographic and social indicators.\n"
   ]
  },
  {
   "cell_type": "code",
   "execution_count": 2,
   "metadata": {},
   "outputs": [
    {
     "data": {
      "text/html": [
       "<div>\n",
       "<style scoped>\n",
       "    .dataframe tbody tr th:only-of-type {\n",
       "        vertical-align: middle;\n",
       "    }\n",
       "\n",
       "    .dataframe tbody tr th {\n",
       "        vertical-align: top;\n",
       "    }\n",
       "\n",
       "    .dataframe thead th {\n",
       "        text-align: right;\n",
       "    }\n",
       "</style>\n",
       "<table border=\"1\" class=\"dataframe\">\n",
       "  <thead>\n",
       "    <tr style=\"text-align: right;\">\n",
       "      <th></th>\n",
       "      <th>geography</th>\n",
       "      <th>Median age</th>\n",
       "      <th>Median weekly household income</th>\n",
       "    </tr>\n",
       "  </thead>\n",
       "  <tbody>\n",
       "    <tr>\n",
       "      <th>0</th>\n",
       "      <td>Carlton</td>\n",
       "      <td>25.97</td>\n",
       "      <td>734.71</td>\n",
       "    </tr>\n",
       "    <tr>\n",
       "      <th>1</th>\n",
       "      <td>Docklands</td>\n",
       "      <td>31.76</td>\n",
       "      <td>1870.17</td>\n",
       "    </tr>\n",
       "    <tr>\n",
       "      <th>2</th>\n",
       "      <td>East Melbourne</td>\n",
       "      <td>40.14</td>\n",
       "      <td>2386.03</td>\n",
       "    </tr>\n",
       "    <tr>\n",
       "      <th>3</th>\n",
       "      <td>Greater Melbourne</td>\n",
       "      <td>36.00</td>\n",
       "      <td>1542.00</td>\n",
       "    </tr>\n",
       "    <tr>\n",
       "      <th>4</th>\n",
       "      <td>Kensington</td>\n",
       "      <td>33.37</td>\n",
       "      <td>1909.37</td>\n",
       "    </tr>\n",
       "    <tr>\n",
       "      <th>5</th>\n",
       "      <td>Melbourne (CBD)</td>\n",
       "      <td>26.29</td>\n",
       "      <td>959.83</td>\n",
       "    </tr>\n",
       "    <tr>\n",
       "      <th>6</th>\n",
       "      <td>City of Melbourne</td>\n",
       "      <td>28.00</td>\n",
       "      <td>1354.00</td>\n",
       "    </tr>\n",
       "    <tr>\n",
       "      <th>7</th>\n",
       "      <td>North Melbourne</td>\n",
       "      <td>28.79</td>\n",
       "      <td>1275.52</td>\n",
       "    </tr>\n",
       "    <tr>\n",
       "      <th>8</th>\n",
       "      <td>Parkville</td>\n",
       "      <td>31.22</td>\n",
       "      <td>1642.33</td>\n",
       "    </tr>\n",
       "    <tr>\n",
       "      <th>9</th>\n",
       "      <td>South Yarra (inc. Melbourne Remainder)</td>\n",
       "      <td>38.79</td>\n",
       "      <td>2052.48</td>\n",
       "    </tr>\n",
       "    <tr>\n",
       "      <th>10</th>\n",
       "      <td>Southbank</td>\n",
       "      <td>30.93</td>\n",
       "      <td>1869.85</td>\n",
       "    </tr>\n",
       "    <tr>\n",
       "      <th>11</th>\n",
       "      <td>West Melbourne (Residential)</td>\n",
       "      <td>29.73</td>\n",
       "      <td>1811.24</td>\n",
       "    </tr>\n",
       "  </tbody>\n",
       "</table>\n",
       "</div>"
      ],
      "text/plain": [
       "                                 geography  Median age  \\\n",
       "0                                  Carlton       25.97   \n",
       "1                                Docklands       31.76   \n",
       "2                           East Melbourne       40.14   \n",
       "3                        Greater Melbourne       36.00   \n",
       "4                               Kensington       33.37   \n",
       "5                          Melbourne (CBD)       26.29   \n",
       "6                        City of Melbourne       28.00   \n",
       "7                          North Melbourne       28.79   \n",
       "8                                Parkville       31.22   \n",
       "9   South Yarra (inc. Melbourne Remainder)       38.79   \n",
       "10                               Southbank       30.93   \n",
       "11            West Melbourne (Residential)       29.73   \n",
       "\n",
       "    Median weekly household income  \n",
       "0                           734.71  \n",
       "1                          1870.17  \n",
       "2                          2386.03  \n",
       "3                          1542.00  \n",
       "4                          1909.37  \n",
       "5                           959.83  \n",
       "6                          1354.00  \n",
       "7                          1275.52  \n",
       "8                          1642.33  \n",
       "9                          2052.48  \n",
       "10                         1869.85  \n",
       "11                         1811.24  "
      ]
     },
     "metadata": {},
     "output_type": "display_data"
    }
   ],
   "source": [
    "%matplotlib inline \n",
    "\n",
    "import pandas as pd\n",
    "\n",
    "df1 = pd.read_csv('CLUE_age_vs_household_income_2016.csv')\n",
    "\n",
    "display(df1)"
   ]
  },
  {
   "cell_type": "markdown",
   "metadata": {},
   "source": [
    "We can plot the relationship between a suburb's median age and median weekly household income using Pandas' built-in 'scatter' function, which we met in the introductory notebook. Refresh your memory by giving it a try:"
   ]
  },
  {
   "cell_type": "code",
   "execution_count": null,
   "metadata": {},
   "outputs": [],
   "source": [
    "# Use panda's plot.scatter function to plot df1's median age vs median weekly household income here\n"
   ]
  },
  {
   "cell_type": "markdown",
   "metadata": {},
   "source": [
    "This simple one-liner lets us see quite a distinct correlation between our two variables: a suburb's median income tends to grow in proportion to that suburb's median age. \n",
    "\n",
    "This makes sense when we think about it: generally speaking, the older a working-age person is, the more time they have had to progress in their careers and increase their income. So, we can postulate a causative relationship between these two variables: one's age is partially explanatory of their income - or, if you like, one's income is partially dependent on one's age. However, one's age is not explained by (is independent of) their income. \n",
    "\n",
    "In cases like this, where we know or expect that there will be a dependence or causative relationship between our variables, we customarily place the **independent (explanatory) variable on the x axis**, and the **dependent variable on the y axis**. This is true for most kinds of cartesian plots, not just scatter plots, as we will see below. \n",
    "\n",
    "Of course, it is also worth noting that we can create plots using x and y variables which are both independent of the other. In this case, it doesn't really matter which variable you place on which axis. "
   ]
  },
  {
   "cell_type": "markdown",
   "metadata": {},
   "source": [
    "### Matplotlib \n",
    "\n",
    "Having made the last plot with a single simple line of code, it might seem strange to look for a more complicated way to achieve the same result. \n",
    "\n",
    "However, we'll now attempt to recreate the plot above using Python's Matplotlib library. Using Matplotlib directly will give us the tools to build powerful figures, and make them look exactly as we wish - going beyond the capabilities of Pandas built-ins. Note that Matplotlib has similar capabilities (and syntax) to plotting in MATLAB, for those who may be familiar with it.\n",
    "\n",
    "Matplotlib should come packaged with almost any Python installation. We can import it, and get access to its user interface, \"pyplot\", using:"
   ]
  },
  {
   "cell_type": "code",
   "execution_count": 1,
   "metadata": {},
   "outputs": [],
   "source": [
    "import matplotlib.pyplot as pl"
   ]
  },
  {
   "cell_type": "markdown",
   "metadata": {},
   "source": [
    "Some installations might prefer you to use ``pylab``\" instead (``import matplotlib.pylab as pl``). Pylab is basically just pyplot packaged together with numpy. If importing pyplot fails, you may find that pylab is installed. However, it is no longer recommded to use pylab - you should prefer pyplot wherever possible.\n",
    "\n",
    "Matplotlib's pyplot namespace (usually imported as ``pl`` or ``plt``) contains a vast array of plotting capabilities. \n",
    "\n",
    "In the interest of starting with something familiar, we'll look first at ``pl.scatter()``, for creating scatter plots\n",
    "\n",
    "### Scatter Plots - Part II\n",
    "\n",
    "Matplotlib's ``pl.scatter()`` function requires two arguments: the vector of x co-ordinates for the desired points, and the vector of y co-ordinates for the desired points. These can be passed as arrays, lists, dataframe columns, etc. Other optional arguments can also be passed: we'll talk about them later. "
   ]
  },
  {
   "cell_type": "code",
   "execution_count": null,
   "metadata": {
    "scrolled": true
   },
   "outputs": [],
   "source": [
    "#Based on the above remarks, alter the line below to plot median age against median income:\n",
    "\n",
    "pl.scatter(df1['Median age'],  );"
   ]
  },
  {
   "cell_type": "markdown",
   "metadata": {},
   "source": [
    "You'll notice that this output looks almost identical to the scatter plot achieved with Pandas. This is because **Pandas' built-ins are simply a high-level wrapper for Matplotlib's functions**. So, although being familiar with the built-in functions can be very convenient, it is important to make sure you understand their foundations - Matplotlib. \n",
    "\n",
    "### Basic Plot Labels\n",
    "\n",
    "One difference you may have noticed between the two plots above is that second plot lacks the axis labels which were automatically provided by ``pd.plot.scatter()``. \n",
    "\n",
    "Using Matplotlib, we need to add axis labels manually. By contrast, Pandas infers the axis labels from the names of the columns we pass as our ``x`` and ``y`` variables to ``pd.plot.scatter()``. There are pros and cons to both approaches.\n",
    "\n",
    "Now we'll see how to add axis labels, and plot titles. \n",
    "\n",
    "To change the x-axis label, we use a simple command. Give the below a try."
   ]
  },
  {
   "cell_type": "code",
   "execution_count": null,
   "metadata": {},
   "outputs": [],
   "source": [
    "# Try this\n",
    "\n",
    "pl.xlabel('My x-axis label')"
   ]
  },
  {
   "cell_type": "markdown",
   "metadata": {},
   "source": [
    "Ok, we've added an x-axis label, but it's labelling a new, empty plot - what's going on?\n",
    "\n",
    "### Introduction to Python Figure Objects\n",
    "\n",
    "Our visualisations are made up of many elements - the axes, the axes labels, the plotting area, plotted data itself, and more. Matplotlib's \"Figure\" class defines a type of object (a figure), which acts as a container for all these other elements.\n",
    "\n",
    "A figure object doesn't look like much on its own: try initialising this one."
   ]
  },
  {
   "cell_type": "code",
   "execution_count": null,
   "metadata": {},
   "outputs": [],
   "source": [
    "pl.figure()"
   ]
  },
  {
   "cell_type": "markdown",
   "metadata": {},
   "source": [
    "However, when a code first executes a plotting command, Python automatically initialises one of these figure objects behind the scenes. Alternatively, we can choose to initalise a figure manually ourselves before we begin plotting - using the command in the previous cell.\n",
    "\n",
    "Either way, **the figure object acts as a container for all the other elements that will make up our visualisations**. \n",
    "\n",
    "When we run any Matplotlib commands, this figure object (which just exists in memory for now) is populated (in memory) with the associated details: axes, data, etc. \n",
    "\n",
    "Then, once all plotting commands are complete, the visualisation which the figure object describes is rendered to your screen as a graphic. We can tell Python that our plotting commands are complete (and generate our visualisation) by executing:\n",
    "\n",
    "``pl.show()``\n",
    "\n",
    "This will cause our visualisations to be rendered to the screen. Alternatively, if we're working in the notebook, any visualisations we create within a single cell are automatically rendered and displayed when we execute that cell - as we have been doing above. \n",
    "\n",
    "Typically, once a figure is displayed, it can't be changed*; so we would usually put all the commands we need to create and customise our plots within a single notebook cell. Let's have a go at plotting and labelling a figure in one fell swoop:\n",
    "\n",
    "\\* *Although, interactive figures will be covered later in the course*\n",
    "\n",
    "Try the code below:"
   ]
  },
  {
   "cell_type": "code",
   "execution_count": null,
   "metadata": {},
   "outputs": [],
   "source": [
    "# First, we'll re-generate our plot from above: so that we are creating the plot object and adding labels in the same cell.\n",
    "# Python will first generate our figure object; then, it will add the required axes and data points in memory \n",
    "\n",
    "pl.scatter('Median age',df1['Median weekly household income'])\n",
    "\n",
    "# Now we have our plot objects in memory, we apply our changes (addition of labels) to that object. Make sure you label both axes.\n",
    "\n",
    "pl.xlabel('Median Age')\n",
    "pl.ylabel('')\n",
    "\n",
    "# While we're here, we'll also add a title to the plot. Pass your desired title as a string to the following function:\n",
    "\n",
    "pl.title()\n",
    "\n",
    "# Only once all the cell's contents are run is the figure object rendered to a graphic and displayed.\n",
    "# The figure will be generated with the labels we specified"
   ]
  },
  {
   "cell_type": "markdown",
   "metadata": {},
   "source": [
    "Great! There are a few aesthetic elements of this plot we might like to tweak later, but the essentials are there.\n",
    "\n",
    "### A quick diversion - simple linear regression\n",
    "\n",
    "When we look at a scatter plot, and can see evidence for a relationship between our variables, a common next task is to fit a line to our data.\n",
    "\n",
    "This is a useful skill to have, and a useful way to jump to discussing line graphs. So let's take a look at a basic example. \n",
    "\n",
    "Note that the following code snippet will gloss over the details of the linear regression calculation, and the use of the new 'scikitlearn' library (a useful one), in the interests of moving along with visualisation. So, **you don't need to understand everything that's happening in the next cell: and you won't need to fix anything. You can just run it and move on!**. If there is time, and interest, we can revisit this at the end of the session. But it is mostly here just as a cool example of a data science task we can do easily with python, and - most importantly - to give us the values for our line. **Don't worry too much about the details.**"
   ]
  },
  {
   "cell_type": "code",
   "execution_count": 3,
   "metadata": {},
   "outputs": [
    {
     "name": "stdout",
     "output_type": "stream",
     "text": [
      "[[1124.793494  ]\n",
      " [1618.2173835 ]\n",
      " [2332.36111304]\n",
      " [1979.55024904]\n",
      " [1755.42160839]\n",
      " [1152.06389895]\n",
      " [1297.79012538]\n",
      " [1365.11393759]\n",
      " [1572.19857515]\n",
      " [2217.31409217]\n",
      " [1547.48477067]\n",
      " [1445.22075212]]\n"
     ]
    }
   ],
   "source": [
    "# First, we import the 'ScikitLearn' linear regression function - a common choice for basic fitting\n",
    "from sklearn.linear_model import LinearRegression\n",
    "\n",
    "# The linear regression function doesn't accept dataframe columns/Series as inputs\n",
    "# We first need to reshape our data from an X-length Series into numpy arrays of shape (X,1)\n",
    "\n",
    "import numpy as np\n",
    "\n",
    "age_input = np.array( df1['Median age'] ).reshape(-1,1)\n",
    "income_input = np.array( df1['Median weekly household income'] ).reshape(-1,1)\n",
    "\n",
    "# We now perform the linear regression based on these inputs\n",
    "regression_model = LinearRegression().fit( age_input, income_input )\n",
    "\n",
    "# Once we have our regression model, we can use it to predict expected incomes, based on age\n",
    "predicted_incomes = ( regression_model.predict( age_input ) )\n",
    "\n",
    "print(predicted_incomes)\n"
   ]
  },
  {
   "cell_type": "code",
   "execution_count": null,
   "metadata": {},
   "outputs": [],
   "source": [
    "# Let's take a look at the predictions for income vs age:\n",
    "\n",
    "# First, add 'predicted incomes' to df1 as a new column, then print the result.\n",
    "\n",
    "# Your code here...\n",
    "\n",
    "\n",
    "display(df1)"
   ]
  },
  {
   "cell_type": "markdown",
   "metadata": {},
   "source": [
    "As we've discussed, it's not always easy to interpret data from written form like this. So let's try a new type of plot.\n",
    "\n",
    "### Line Graphs\n",
    "\n",
    "A line graph (or line plot) is quite similar to a scatter plot in many ways. It is a 2D visualisation which shows the relationship between two variables, ``x`` and ``y``. It is usually created from two vectors, which give the x and y coordinates of key points in the data. However, unlike a scatter plot, these points are joined by line segments.\n",
    "\n",
    "Accordingly, a line graph is usually preferred when there is some kind of a coherent and continuous relationship between adjacent points, so it makes sense to link them visually. For example, where your data represents samples from a continuous function; chronologically ordered measurements of some value; or most any type of time series plot, a line plot makes it clear to your audience that a continuing series of some kind is represented. \n",
    "\n",
    "In this example, although our 'predicted income' data takes the form of discrete vector elements, these are representations/evaluations of the continuous linear function that is our line of best fit. \n",
    "\n",
    "This is in contrast to the scatter plots above, where our points represent disparate, unordered measurements from independent suburbs. \n",
    "\n",
    "Line plots can be generated in Pandas using the ``pd.plot()`` function, which is a wrapper for the more general Matplotlib function ``pl.plot()``. Let's make a Pandas example, where we now plot our suburb median age against our *predicted* median incomes.\n"
   ]
  },
  {
   "cell_type": "code",
   "execution_count": null,
   "metadata": {},
   "outputs": [],
   "source": [
    "df1.plot(x = 'Median age', y = 'Predicted income');"
   ]
  },
  {
   "cell_type": "markdown",
   "metadata": {},
   "source": [
    "In Matplotlib, this would be:"
   ]
  },
  {
   "cell_type": "code",
   "execution_count": null,
   "metadata": {},
   "outputs": [],
   "source": [
    "pl.plot( df1['Median age'], df1['Predicted income']);"
   ]
  },
  {
   "cell_type": "markdown",
   "metadata": {},
   "source": [
    "We can see that Pandas has added some labelling for us. However, neither of these plots are very exciting, or very illuminating, as they stand - it's not very helpful to see a line of best fit separately than the points it has been fitted to.\n",
    "\n",
    "It is much more interesting to plot the regression line *over* our scattered data points. This is easy to do: we simply make both plotting calls - i.e. to ``pl.scatter()`` and ``pl.plot()`` - *consecutively, in the same cell*, and both will be rendered to the same figure. Whichever we do first in the code will go \"first\" onto the figure; we'd like our line to go over the scattered points, so we'll do the line last."
   ]
  },
  {
   "cell_type": "code",
   "execution_count": null,
   "metadata": {},
   "outputs": [],
   "source": [
    "# First add the scatter plot - do this yourself here\n",
    "\n",
    "\n",
    "\n",
    "#Now add the regression line\n",
    "pl.plot( df1['Median age'], df1['predicted income'] )\n",
    "\n",
    "pl.xlabel('Median Age')\n",
    "pl.ylabel(\n",
    "\n",
    "pl.title('Regression');"
   ]
  },
  {
   "cell_type": "markdown",
   "metadata": {},
   "source": [
    "### Customising Markers and Lines - Part I\n",
    "\n",
    "For visual clarity, it is better if we change the colour of the fitted line, to distinguish it from the measured data points. We can change the colour of our line by providing a third argument, ``c``, to ``pl.plot(x,y)``, so it becomes ``pl.plot(x,y,c)``. ``c`` should (usually) be a string which defines the desired colour. \n",
    "\n",
    "The easiest colours to choose in Matplotlib are common ones, which have been given their own one-letter shortcuts:\n",
    "\n",
    "* b: blue\n",
    "* g: green\n",
    "* r: red\n",
    "* c: cyan\n",
    "* m: magenta\n",
    "* y: yellow\n",
    "* k: black\n",
    "* w: white\n",
    "\n",
    "So, to plot a line in green, instead of the default blue, we would use:\n",
    "\n",
    "``pl.plot( x, y, c='g')``"
   ]
  },
  {
   "cell_type": "code",
   "execution_count": null,
   "metadata": {},
   "outputs": [],
   "source": [
    "# For illustration purposes, let's define \n",
    "\n",
    "x = [1, 2, 3, 4, 5]\n",
    "y = [2**i for i in x]\n",
    "\n",
    "pl.plot(x, y, c = 'g');"
   ]
  },
  {
   "cell_type": "markdown",
   "metadata": {},
   "source": [
    "\n",
    "This color specification is a typical Matplotlib syntax, and can also be applied to other plotting commands, such as scatter. To have our scatter points displayed in yellow instead of the default blue, we could use:\n",
    "\n",
    "``pl.scatter( x, y, 'y')`` or ``pl.scatter( x, y, c='y')``\n"
   ]
  },
  {
   "cell_type": "code",
   "execution_count": null,
   "metadata": {},
   "outputs": [],
   "source": [
    "pl.scatter( x, y, c='y');"
   ]
  },
  {
   "cell_type": "markdown",
   "metadata": {},
   "source": [
    "\n",
    "This is also a good place to mention changing the *shape* of our plotting markers. Like colours, Matplotlib has a few one-letter shortcuts for this. For example:\n",
    "\n",
    "shortcut\tdescription\n",
    "* \".\"\t\tpoint\n",
    "* \",\"\t\tpixel\n",
    "* \"o\"\t\tcircle\n",
    "* \"v\"\t\ttriangle_down\n",
    "* \"^\"\t\ttriangle_up\n",
    "* \"s\"       square\n",
    "\n",
    "Find more at https://matplotlib.org/3.1.1/api/markers_api.html .\n",
    "\n",
    "To change the colour and shape of a scatter plot marker, we use the format:\n",
    "\n",
    "``pl.scatter( x, y, c='colour', marker='marker')``\n",
    "\n",
    "So, to create a scatter plot with magenta triangles as a marker, we would use:\n"
   ]
  },
  {
   "cell_type": "code",
   "execution_count": null,
   "metadata": {},
   "outputs": [],
   "source": [
    "pl.scatter (x, y, c='m', marker='v' );"
   ]
  },
  {
   "cell_type": "markdown",
   "metadata": {},
   "source": [
    "It's worth noting that ``pl.plot()`` does not *have* to be used to create line plots. Although a line plot is the default, we can pass ``pl.plot()`` a *marker* style as the third argument, to produce a scatter plot."
   ]
  },
  {
   "cell_type": "code",
   "execution_count": null,
   "metadata": {},
   "outputs": [],
   "source": [
    "pl.plot(x, y, 'v');"
   ]
  },
  {
   "cell_type": "markdown",
   "metadata": {},
   "source": [
    "In fact, using pl.plot(), we can change the marker *and* colour in a single argument, by combining a one-letter colour shortcut, and a one-letter marker shortcut into a single string. So, red ('r') circles ('o') would be achieved by the string 'ro', as below:"
   ]
  },
  {
   "cell_type": "code",
   "execution_count": null,
   "metadata": {},
   "outputs": [],
   "source": [
    "pl.plot(x, y, 'ro');"
   ]
  },
  {
   "cell_type": "markdown",
   "metadata": {},
   "source": [
    "We can alter the linestyle used by pl.plot() with similar shortcuts:\n",
    "\n",
    "* 'solid' or '-' for a solid line (the default)\n",
    "* 'dashed' or '--' for a dashed line\n",
    "* 'dashdot' or '-.' for a dashdotted line"
   ]
  },
  {
   "cell_type": "code",
   "execution_count": null,
   "metadata": {},
   "outputs": [],
   "source": [
    "pl.plot(x,y,'--');"
   ]
  },
  {
   "cell_type": "markdown",
   "metadata": {},
   "source": [
    "These, too, can be combined with colour options:"
   ]
  },
  {
   "cell_type": "code",
   "execution_count": null,
   "metadata": {},
   "outputs": [],
   "source": [
    "pl.plot(x,y,'k-.');"
   ]
  },
  {
   "cell_type": "markdown",
   "metadata": {},
   "source": [
    "If you wish to use a non-shortcut linestyle argument (eg 'solid'), or combine a linestyle argument shortcut with a non-shortcut colour argument (such as 'indigo'), combining the strings will not work. You'll need to specify the colour and linestyle separately:"
   ]
  },
  {
   "cell_type": "code",
   "execution_count": null,
   "metadata": {},
   "outputs": [],
   "source": [
    "pl.plot(x, y, 'indigo',linestyle='dashdot');"
   ]
  },
  {
   "cell_type": "markdown",
   "metadata": {},
   "source": [
    "For a range of further line options, see https://matplotlib.org/3.1.0/gallery/lines_bars_and_markers/linestyles.html ."
   ]
  },
  {
   "cell_type": "markdown",
   "metadata": {},
   "source": [
    "Using this information, \n",
    "In the next cell, reproduce the last plot, but change the line of best fit to a dashed red line, and the scatter points to black squares:"
   ]
  },
  {
   "cell_type": "code",
   "execution_count": null,
   "metadata": {},
   "outputs": [],
   "source": [
    "pl.plot(x,y,'.')"
   ]
  },
  {
   "cell_type": "markdown",
   "metadata": {},
   "source": [
    "When we need colours beyond the above, a variety of options are available to us. For example, instead of a one-letter colour string, we can pass the name of a CSS colour from the extensive list at https://matplotlib.org/3.1.0/gallery/color/named_colors.html . We could also pass an RGB tuple, hex string, or work with Matplotlib's colourmap routines. We'll talk more about those later. "
   ]
  },
  {
   "cell_type": "markdown",
   "metadata": {},
   "source": [
    "### Colour-coding Markers\n",
    "\n",
    "However, before we get there, let's look one last time at our age-to-income scatter plot from df1."
   ]
  },
  {
   "cell_type": "code",
   "execution_count": null,
   "metadata": {},
   "outputs": [],
   "source": [
    "display(df1)"
   ]
  },
  {
   "cell_type": "markdown",
   "metadata": {},
   "source": [
    "We have plotted two dimensions of this data on our scatter plots above: age and measured income. However, there is another dimension which we have ignored so far: geography.\n",
    "\n",
    "Our plot would be much more interesting and informative if we could include this information. But how can we include a third dimension of data on a 2D plot? One way is by using  the basic colouring/customisation above to give each suburb a separate colour.\n",
    "\n",
    "There are procedural ways to allocate colours, as we'll see later, but for now we'll define colours for our twelve suburbs manually:"
   ]
  },
  {
   "cell_type": "code",
   "execution_count": null,
   "metadata": {},
   "outputs": [],
   "source": [
    "# Make a list of twelve different colour strings\n",
    "\n",
    "colours = ['r', 'b', 'g', 'y', 'indigo', 'gold' ...."
   ]
  },
  {
   "cell_type": "markdown",
   "metadata": {},
   "source": [
    "If we are using Pandas' builtin scatter function, we can pass our vector of desired colours directly:"
   ]
  },
  {
   "cell_type": "code",
   "execution_count": null,
   "metadata": {},
   "outputs": [],
   "source": [
    "import matplotlib.pyplot as pl\n",
    "df1.plot.scatter(x='Median age',y='Median weekly household income',color=colours, marker='s');"
   ]
  },
  {
   "cell_type": "markdown",
   "metadata": {},
   "source": [
    "Using Matplotlib's ``pl.plot()`` directly, we can't pass  our colour vector in this way (although, stay tuned for the next workbook, when we revisit ``pl.scatter()``).\n",
    "\n",
    "However, we can use a for loop to add and colour each point individually:"
   ]
  },
  {
   "cell_type": "code",
   "execution_count": null,
   "metadata": {},
   "outputs": [],
   "source": [
    "for ind in range(len(df1)):\n",
    "\n",
    "    pl.plot(df1.iloc[ind]['Median age'],df1.iloc[ind]['Median weekly household income'],color=colours[ind],marker='s')\n",
    "    "
   ]
  },
  {
   "cell_type": "markdown",
   "metadata": {},
   "source": [
    "### Adding a Legend\n",
    "\n",
    "This is nice, but we really need a legend to keep track of which suburb is which.\n",
    "\n",
    "Luckily this is pretty simple. To add a legend to our plots, we need provide an appropriate label for each of our plot elements as we add them. We do this by adding the argument ``label = 'My desired label' ``  to each plotting function. \n",
    "\n",
    "When we are finished, we call ``pl.legend()``, and a legend is added to the figure, containing the correct labels.\n",
    "\n",
    "Here's an example:"
   ]
  },
  {
   "cell_type": "code",
   "execution_count": null,
   "metadata": {},
   "outputs": [],
   "source": [
    "pl.plot(x,y, label='My test line')\n",
    "pl.plot(x,y, 'ro', label='My test pointset')\n",
    "pl.plot(4.5,10,'ks', label = 'My test point')\n",
    "pl.legend();"
   ]
  },
  {
   "cell_type": "markdown",
   "metadata": {},
   "source": [
    "Based on these examples, add a label argument to the plotting commands below, which will label each point with the corresponding 'Geography' value from ``df1``."
   ]
  },
  {
   "cell_type": "code",
   "execution_count": null,
   "metadata": {},
   "outputs": [],
   "source": [
    "for ind in range(len(df1)):\n",
    "\n",
    "    pl.plot(df1.iloc[ind]['Median age'],df1.iloc[ind]['Median weekly household income'],color=colours[ind],marker='s',label= .... )\n",
    "    \n",
    "pl.legend();"
   ]
  },
  {
   "cell_type": "markdown",
   "metadata": {},
   "source": [
    "Great - we have a legend. But it is blocking the whole plot.\n",
    "\n",
    "We have a few options here. We can reduce the font size of the legend so that it becomes smaller, but that might make things hard to read. \n",
    "\n",
    "We can increase the size of our figure by initialising it with ``pl.figure()`` and the ``figsize`` argument, to define our desired width and height in inches. Don't forget to specify colours and labels for your markers in the cell below."
   ]
  },
  {
   "cell_type": "code",
   "execution_count": null,
   "metadata": {},
   "outputs": [],
   "source": [
    "pl.figure(figsize = (8,8))\n",
    "\n",
    ".....\n",
    "\n",
    "for ind in range(len(df1)):\n",
    "  \n",
    "    pl.plot(df1.iloc[ind]['Median age'],df1.iloc[ind]['Median weekly household income'], ...)\n",
    "    \n",
    "pl.legend();\n"
   ]
  },
  {
   "cell_type": "markdown",
   "metadata": {},
   "source": [
    "Alternatively, we can move the legend. We can pass the ``loc`` argument to ``pl.legend()`` to adjust this, using shortcuts such as 'upper left','center left','lower right'. "
   ]
  },
  {
   "cell_type": "code",
   "execution_count": null,
   "metadata": {},
   "outputs": [],
   "source": [
    "pl.plot(x,y,label='Testing')\n",
    "    \n",
    "\n",
    "pl.legend(loc='upper left');"
   ]
  },
  {
   "cell_type": "markdown",
   "metadata": {},
   "source": [
    "However, we have finer control if we directly specify where the lower left-hand corner of the legend will go by passing a location tuple to loc. This tuple should be read as (the % right along the x axis of the legend's lower  left corner, the % up along the y axis of the legend's lower  left corner), where 100% = 1.0.\n",
    "\n",
    "So, if we pass ``(0.5, 0.5)`` as our location, the legend will be anchored directly in the middle of the plot, with its lower left corner 50% of the way along the x axis, and 50% of the way up the y axis.\n",
    "\n",
    "If we pass ``(0,0)``, it will be at the origin - and so on. Run some tests below:\n"
   ]
  },
  {
   "cell_type": "code",
   "execution_count": null,
   "metadata": {},
   "outputs": [],
   "source": [
    "pl.plot(x,y,label='Testing')\n",
    "    \n",
    "pl.legend(loc=(0.5, 0.5));"
   ]
  },
  {
   "cell_type": "code",
   "execution_count": null,
   "metadata": {},
   "outputs": [],
   "source": [
    "pl.plot(x,y,label='Testing')\n",
    "    \n",
    "pl.legend(loc=(0, 0));"
   ]
  },
  {
   "cell_type": "markdown",
   "metadata": {},
   "source": [
    "Conveniently, by choosing a location >1 or <0, we can even move the legend beyond the confines of the plot. For example, ``(1.1, 1.1)`` would place the legend above and to the right of the plot."
   ]
  },
  {
   "cell_type": "code",
   "execution_count": null,
   "metadata": {},
   "outputs": [],
   "source": [
    "pl.plot(x,y,label='Testing')\n",
    "    \n",
    "pl.legend(loc=(1.1, 1.1));"
   ]
  },
  {
   "cell_type": "markdown",
   "metadata": {},
   "source": [
    "Play around and choose some parameters to put a legend at a location you like."
   ]
  },
  {
   "cell_type": "code",
   "execution_count": null,
   "metadata": {},
   "outputs": [],
   "source": [
    "## Test your legend adjustments here"
   ]
  },
  {
   "cell_type": "markdown",
   "metadata": {},
   "source": [
    "### Exercise 1: Putting all the basics together. \n",
    "\n",
    "The above covers some basic essentials of plotting in Python, and introduces you to the two most essential types of visualisation - the scatter and the line plot.\n",
    "\n",
    "To make sure you have a handle on the above, have a go at the following:\n",
    "\n",
    "Create a figure which:\n",
    "* a) shows the median age vs median weekly household income for our Melbourne suburbs as a scatter plot.\n",
    "* b) Colour-code your markers by suburb.\n",
    "* c) Overplot the line of best fit, using a red dot-dashed line.\n",
    "* d) Add appropriate axis labels and title\n",
    "* e) Size the figure to 6x6\n",
    "* f) Make sure all of your scatter points (and your best fit line) are described on the legend. \n",
    "* g) Finally, write some brief remarks (just a sentence or so) about what the plot you've created shows you."
   ]
  },
  {
   "cell_type": "code",
   "execution_count": null,
   "metadata": {},
   "outputs": [],
   "source": [
    "# Create your figure here"
   ]
  },
  {
   "cell_type": "markdown",
   "metadata": {},
   "source": [
    "**Well done!**. You've encountered the basic tools and concepts of plotting in Python, and have hopefully learned a bit about how to use them.\n",
    "\n",
    "#### Totally optional exercise 1.1\n",
    "\n",
    "If you find yourself with time on your hands, here are some extra - completely optional! - tasks you can do. If you don't have time on your hands, ignore this!\n",
    "\n",
    "* Load the CLUE data file ``CLUE_age_vs_household_income_2016.csv``\n",
    "* Extract the median age and median household income data for **2011** to a dataframe\n",
    "* Reproduce your last plot, but use the 2011 data, instead of the 2016 data we have used above\n",
    "* Write a sentence or two about what you can learn by comparing the two plots"
   ]
  }
 ],
 "metadata": {
  "kernelspec": {
   "display_name": "Python 3",
   "language": "python",
   "name": "python3"
  },
  "language_info": {
   "codemirror_mode": {
    "name": "ipython",
    "version": 3
   },
   "file_extension": ".py",
   "mimetype": "text/x-python",
   "name": "python",
   "nbconvert_exporter": "python",
   "pygments_lexer": "ipython3",
   "version": "3.7.6"
  }
 },
 "nbformat": 4,
 "nbformat_minor": 4
}
