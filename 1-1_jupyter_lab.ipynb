{
 "cells": [
  {
   "cell_type": "markdown",
   "metadata": {},
   "source": [
    "# Jupyter Lab intro\n",
    "\n",
    "Jupyter Lab is a program that allows you to use Python to interactively explore data and make visualisations in a web browser.\n",
    "\n",
    "## iPython, Jupyter Notebook, and Jupyter Lab\n",
    "\n",
    "Jupyter Notebook (or IPython Notebook) is a Python shell for interactive exploration and visualisation of data, which enables Python to be run through a web browser. It allows code, visualisations, equations, and narrative text to be displayed interactively.\n",
    "\n",
    "Jupyter Lab is very similar to Jupyter Notebook, except that the user interface has more features and is a bit more like a development environment. You should be able to run all notebooks in the Data Science Fundamentals unit in either Jupyter Lab or Jupyter Notebook.\n",
    "\n",
    "## Running Jupyter Lab (or Jupyter Notebook)\n",
    "\n",
    "Open a terminal (command line) and run the following:"
   ]
  },
  {
   "cell_type": "code",
   "execution_count": null,
   "metadata": {},
   "outputs": [],
   "source": [
    "jupyter lab"
   ]
  },
  {
   "cell_type": "markdown",
   "metadata": {},
   "source": [
    "We can also select a particular browser if we want:"
   ]
  },
  {
   "cell_type": "code",
   "execution_count": null,
   "metadata": {},
   "outputs": [],
   "source": [
    "jupyter lab --browser=chrome"
   ]
  },
  {
   "cell_type": "markdown",
   "metadata": {},
   "source": [
    "In the Jupyter Lab file browser (left side pane of Jupyter lab), navigate to the first notebook (*1-1_jupyter_lab.ipynb*) and open it. This file is an iPython Notebook (.ipynb) file; a text file that is run in a web browser to generate an interactive notebook."
   ]
  },
  {
   "cell_type": "markdown",
   "metadata": {},
   "source": [
    "## Working with cells\n",
    "\n",
    "A cell is a block of text or code. You can run the below code using Ctrl+Enter or Shift+Enter:"
   ]
  },
  {
   "cell_type": "code",
   "execution_count": null,
   "metadata": {},
   "outputs": [],
   "source": [
    "print('Hello World!')"
   ]
  },
  {
   "cell_type": "markdown",
   "metadata": {},
   "source": [
    "You can create a new cell using the \"+\" button (below the notebook tabs). Try creating a new cell below this cell."
   ]
  },
  {
   "cell_type": "markdown",
   "metadata": {},
   "source": [
    "### Cell types\n",
    "\n",
    "Cells can be *markdown* (i.e. text) cells like this one, or *code* cells containing Python code (like the above cell). Double-click this cell and change it from *markdown* to *code* using the pull-down menu above (below the notebook tabs). The keyboard shortcut for this is Ctrl+Y. If you try to run the cell as code, it will produce an error. Now change it back to markdown (Esc+M), then run the cell as markdown (Shift+Enter)."
   ]
  },
  {
   "cell_type": "markdown",
   "metadata": {},
   "source": [
    "### Moving cells\n",
    "\n",
    "Clicking in the empty space to the left of a cell and dragging will allow you to move the cell up or down. Try it now with this cell."
   ]
  },
  {
   "cell_type": "markdown",
   "metadata": {},
   "source": [
    "Now re-order the below cells in descending order:"
   ]
  },
  {
   "cell_type": "markdown",
   "metadata": {},
   "source": [
    "4"
   ]
  },
  {
   "cell_type": "markdown",
   "metadata": {},
   "source": [
    "1"
   ]
  },
  {
   "cell_type": "markdown",
   "metadata": {},
   "source": [
    "2"
   ]
  },
  {
   "cell_type": "markdown",
   "metadata": {},
   "source": [
    "5"
   ]
  },
  {
   "cell_type": "markdown",
   "metadata": {},
   "source": [
    "3"
   ]
  },
  {
   "cell_type": "markdown",
   "metadata": {},
   "source": [
    "### Creating new cells\n",
    "\n",
    "You can create a new cell using the \"+\" button (below the notebook tabs). Try creating a new cell below this cell."
   ]
  },
  {
   "cell_type": "markdown",
   "metadata": {},
   "source": [
    "Clicking the vertical bar to the left of a cell (or pressing Esc) and pressing C will copy the cell, and V will paste it. Copy this cell and paste it below. Then delete the new cell by selecting the cell and pressing D twice.\n",
    "\n",
    "You can create a new cell below this one using Esc+b, or above using Esc+a. Try it now, then write ``print()`` statements in each of the new cells and run them, with whatever text you want."
   ]
  },
  {
   "cell_type": "markdown",
   "metadata": {},
   "source": [
    "## Cheatsheet\n",
    "\n",
    "For a cheatsheet containing some common Jupyter Notebook/Lab commands and shortcuts, see: https://www.edureka.co/blog/wp-content/uploads/2018/10/Jupyter_Notebook_CheatSheet_Edureka.pdf"
   ]
  }
 ],
 "metadata": {
  "kernelspec": {
   "display_name": "Python 3",
   "language": "python",
   "name": "python3"
  },
  "language_info": {
   "codemirror_mode": {
    "name": "ipython",
    "version": 3
   },
   "file_extension": ".py",
   "mimetype": "text/x-python",
   "name": "python",
   "nbconvert_exporter": "python",
   "pygments_lexer": "ipython3",
   "version": "3.6.8"
  }
 },
 "nbformat": 4,
 "nbformat_minor": 4
}
