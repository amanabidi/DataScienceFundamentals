{
 "cells": [
  {
   "cell_type": "markdown",
   "metadata": {},
   "source": [
    "# Introduction to Data Visualisation\n",
    "## Why Data Visualisation?\n",
    "\n",
    "Data visualisation - mapping our data to a visual representation - is an indispensible tool in the scientist's toolkit - whether you are a social scientist, a physical scientist, or a data scientist.\n",
    "\n",
    "To see why, let's look at an iconic set of data: Anscombe's Quartet.\n",
    "\n",
    "Anscombe's quartet is made up of four dataframes: df1, df2, df3, and df4."
   ]
  },
  {
   "cell_type": "code",
   "execution_count": null,
   "metadata": {},
   "outputs": [],
   "source": [
    "import pandas as pd\n",
    "%matplotlib inline\n",
    "\n",
    "df1 = pd.DataFrame( { 'x' : [10.0, 8.0, 13.0, 9.0, 11.0, 14.0, 6.0, 4.0, 12.0, 7.0, 5.0], 'y' : [8.04, 6.95, 7.58, 8.81, 8.33, 9.96, 7.24, 4.26, 10.84, 4.82, 5.68] } )\n",
    "df2 = pd.DataFrame( { 'x' : [10.0, 8.0, 13.0, 9.0, 11.0, 14.0, 6.0, 4.0, 12.0, 7.0, 5.0], 'y' : [9.14, 8.14, 8.74, 8.77, 9.26, 8.10, 6.13, 3.10, 9.13, 7.26, 4.74] } )\n",
    "df3 = pd.DataFrame( { 'x' : [10.0, 8.0, 13.0, 9.0, 11.0, 14.0, 6.0, 4.0, 12.0, 7.0, 5.0], 'y' : [7.46, 6.77, 12.74, 7.11, 7.81, 8.84, 6.08, 5.39, 8.15, 6.42, 5.73] } )\n",
    "df4 = pd.DataFrame( { 'x' : [8.0, 8.0, 8.0, 8.0, 8.0, 8.0, 8.0, 19.0, 8.0, 8.0, 8.0], 'y' : [6.58, 5.76, 7.71, 8.84, 8.47, 7.04, 5.25, 12.50, 5.56, 7.91, 6.89] } )\n"
   ]
  },
  {
   "cell_type": "markdown",
   "metadata": {},
   "source": [
    "Each of our dataframes has two columns, which always have the same name: x and y.\n",
    "\n",
    "Run the next cell to take a direct look at the data."
   ]
  },
  {
   "cell_type": "code",
   "execution_count": null,
   "metadata": {},
   "outputs": [],
   "source": [
    "display(df1, df2, df3, df4)"
   ]
  },
  {
   "cell_type": "markdown",
   "metadata": {},
   "source": [
    "It's not very easy to get a feel for the data just from a table.\n",
    "\n",
    "However, summary statistics can often be a quick and helpful tool for us in this respect. Let's do some quick calculations, and try to get the overview of this data."
   ]
  },
  {
   "cell_type": "code",
   "execution_count": null,
   "metadata": {},
   "outputs": [],
   "source": [
    "print('Mean Xs:', df1.x.mean(), df2.x.mean(), df3.x.mean(), df4.x.mean())\n",
    "print('Mean Ys:', df1.y.mean(), df2.y.mean(), df3.y.mean(), df4.y.mean())"
   ]
  },
  {
   "cell_type": "markdown",
   "metadata": {},
   "source": [
    "Now, try calculating the standard deviation in X and Y for the four data sets, using Pandas' .std() method."
   ]
  },
  {
   "cell_type": "code",
   "execution_count": null,
   "metadata": {},
   "outputs": [],
   "source": []
  },
  {
   "cell_type": "markdown",
   "metadata": {},
   "source": [
    "So far, Anscombe's quartet seems like four very similar (and pretty boring) sets of data. \n",
    "\n",
    "But let's use it to try some basic visualisations. \n",
    "\n",
    "The Pandas library which we met yesterday has some basic visualisation capabilities. These let us generate basic visualisations directly from our dataframes, as simply as we generated a ``.mean()`` or a ``.std()`` calculation above. This is a great place for us to get started with visualisation in Python.\n",
    "\n",
    "First, we'll try a basic scatter plot. A scatter plot is a 2-dimensional visualisation, which shows us the relationship (if any) between two variables. Here, the two variables will be the respective X and Y vectors of our dataframes.\n",
    "\n",
    "Pandas can generate a scatter plot from a dataframe using its d``f.plot.scatter(x , y)`` method. We simply define which dataframe columns we wish to use as our X and Y variables."
   ]
  },
  {
   "cell_type": "code",
   "execution_count": null,
   "metadata": {},
   "outputs": [],
   "source": [
    "df1.plot.scatter( x = 'x', y = 'y');"
   ]
  },
  {
   "cell_type": "markdown",
   "metadata": {},
   "source": [
    "When we execute the above, a new type of Python object is generated: a plot object.\n",
    "\n",
    "Looking at this plot lets us get a feel for the data in ``df1`` instantly.\n",
    "\n",
    "Using this example, go ahead and create scatter plots for df2, df3, and df4."
   ]
  },
  {
   "cell_type": "code",
   "execution_count": null,
   "metadata": {},
   "outputs": [],
   "source": [
    "df2.plot.scatter( x = 'X', y= )"
   ]
  },
  {
   "cell_type": "code",
   "execution_count": null,
   "metadata": {},
   "outputs": [],
   "source": [
    "df3.plot.scatter()"
   ]
  },
  {
   "cell_type": "code",
   "execution_count": null,
   "metadata": {},
   "outputs": [],
   "source": [
    "# Do df4 on your own here\n",
    "\n"
   ]
  },
  {
   "cell_type": "markdown",
   "metadata": {},
   "source": [
    "Visualising our datasets has revealed some stark differences between them.\n",
    "\n",
    "The four are very similar when eyeballed in table form, and are essentially indistinguishable on some quick summary statistics. However, with the simplest of visualisation commands, we can instantly identify that these datasets describe very different relationships between their X and Y variables. \n",
    "\n",
    "In fact, visualisation is one of the most powerful methods we have of identifying relationships and patterns within our data. Millions of years of evolution have made the human brain and visual system an incredibly well-tuned pattern-spotting machine; so mapping our data into a visual format is often the quickest and best way for us to understand what it means. This is referred to as *exploratory* data visualisation, and is an important skill to develop. (NB mention sometimes-made distinction between exp. as a search for hypotheses vs confirmatory analysis - confimining/refuting hypothosis via data vis).\n",
    "\n",
    "Visualisation is also a vital communication tool. As the saying goes, \"a picture is worth a thousand words\". A good visualisation not only grabs your audience's attention, but can convey a large amount of information. Usually, this information can also be absorbed much more quickly and effectively than if it were in text or table form. So, developing effective visualisations for *presentation* is an essential skill for the researcher: you can help others get to grips with the meaning of your data, and the messages of your research.\n",
    "\n",
    "The rest of this unit will give you an overview of:\n",
    "\n",
    " * Different types of basic visualisations, and how to choose the one which fits your data\n",
    " * How to create these visualisations in Python\n",
    " * What it means to create *good* visualisations\n",
    " * More advanced visualisation methods and tools\n",
    " * Creating interactive visualisations\n",
    " "
   ]
  }
 ],
 "metadata": {
  "kernelspec": {
   "display_name": "Python 3",
   "language": "python",
   "name": "python3"
  },
  "language_info": {
   "codemirror_mode": {
    "name": "ipython",
    "version": 3
   },
   "file_extension": ".py",
   "mimetype": "text/x-python",
   "name": "python",
   "nbconvert_exporter": "python",
   "pygments_lexer": "ipython3",
   "version": "3.7.6"
  }
 },
 "nbformat": 4,
 "nbformat_minor": 4
}
