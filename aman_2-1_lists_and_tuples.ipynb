{
 "cells": [
  {
   "cell_type": "markdown",
   "metadata": {},
   "source": [
    "# Lists and Tuples\n",
    "\n",
    "## Lists\n",
    "\n",
    "A list in Python is simply a collection of items. The items can have different data types; strings, ints, floats, etc... The mathematicians among you may prefer to think of a List as an array of values."
   ]
  },
  {
   "cell_type": "raw",
   "metadata": {},
   "source": [
    "my_first_list = [4, 5, 6, 'H', 8.5]"
   ]
  },
  {
   "cell_type": "code",
   "execution_count": 113,
   "metadata": {},
   "outputs": [],
   "source": [
    "my_first_list = [4, 5, 6, 'H', 8.5]"
   ]
  },
  {
   "cell_type": "markdown",
   "metadata": {},
   "source": [
    "Now print the value of ``my_first_list`` using the cell below, and print that variable's data type as well:"
   ]
  },
  {
   "cell_type": "code",
   "execution_count": 25,
   "metadata": {},
   "outputs": [
    {
     "name": "stdout",
     "output_type": "stream",
     "text": [
      "[4, 5, 6, 'H', 8.5]\n"
     ]
    }
   ],
   "source": [
    "print(my_first_list)"
   ]
  },
  {
   "cell_type": "markdown",
   "metadata": {},
   "source": [
    "There are a few different ways to append a value to a list -- the following are all equivalent:"
   ]
  },
  {
   "cell_type": "code",
   "execution_count": 114,
   "metadata": {},
   "outputs": [
    {
     "name": "stdout",
     "output_type": "stream",
     "text": [
      "[4, 5, 6, 'H', 8.5, 3]\n",
      "[4, 5, 6, 'H', 8.5, 3, 3]\n",
      "[4, 5, 6, 'H', 8.5, 3, 3, 3]\n"
     ]
    }
   ],
   "source": [
    "my_first_list = my_first_list + [3]\n",
    "print(my_first_list)\n",
    "\n",
    "my_first_list += [3]\n",
    "print(my_first_list)\n",
    "\n",
    "my_first_list.append(3)\n",
    "print(my_first_list)"
   ]
  },
  {
   "cell_type": "markdown",
   "metadata": {},
   "source": [
    "We can also append many values to a list by concatenating it with another list of values:"
   ]
  },
  {
   "cell_type": "code",
   "execution_count": 115,
   "metadata": {},
   "outputs": [
    {
     "name": "stdout",
     "output_type": "stream",
     "text": [
      "[4, 5, 6, 'H', 8.5, 3, 3, 3, 1, 'item', True]\n",
      "[0, 4, 5, 6, 'H', 8.5, 3, 3, 3, 1, 'item', True]\n"
     ]
    }
   ],
   "source": [
    "\n",
    "my_first_list = my_first_list + [1, 'item', True]\n",
    "print(my_first_list)\n",
    "my_first_list.insert(0,0)\n",
    "print(my_first_list)"
   ]
  },
  {
   "cell_type": "code",
   "execution_count": 116,
   "metadata": {},
   "outputs": [
    {
     "name": "stdout",
     "output_type": "stream",
     "text": [
      "[0, 4, 5, 6, 'H', 8.5, 3, 3, 3, 1, 'item', True, 1, 'item', True]\n"
     ]
    }
   ],
   "source": [
    "my_first_list += [1, 'item', True]\n",
    "print(my_first_list)"
   ]
  },
  {
   "cell_type": "markdown",
   "metadata": {},
   "source": [
    "We can obtain an item by it's index (position). Note that Python indexing begins from 0 rather than 1:"
   ]
  },
  {
   "cell_type": "code",
   "execution_count": 117,
   "metadata": {},
   "outputs": [
    {
     "name": "stdout",
     "output_type": "stream",
     "text": [
      "0\n",
      "[0, 4, 5, 6, 'H', 8.5, 3, 3, 3, 1, 'item', True, 1, 'item', True]\n"
     ]
    }
   ],
   "source": [
    "print(my_first_list[0])\n",
    "print(my_first_list)\n"
   ]
  },
  {
   "cell_type": "markdown",
   "metadata": {},
   "source": [
    "Now try to print the item 'H' by it's index:"
   ]
  },
  {
   "cell_type": "code",
   "execution_count": 119,
   "metadata": {},
   "outputs": [
    {
     "name": "stdout",
     "output_type": "stream",
     "text": [
      "H\n"
     ]
    }
   ],
   "source": [
    "print(my_first_list[4])"
   ]
  },
  {
   "cell_type": "markdown",
   "metadata": {},
   "source": [
    "We can search a list for an item using the ``.index()`` list method, which returns the index of the first instance of the item:"
   ]
  },
  {
   "cell_type": "code",
   "execution_count": 120,
   "metadata": {},
   "outputs": [
    {
     "name": "stdout",
     "output_type": "stream",
     "text": [
      "9\n",
      "10\n"
     ]
    }
   ],
   "source": [
    "print(my_first_list.index(1))\n",
    "print(my_first_list.index('item'))"
   ]
  },
  {
   "cell_type": "markdown",
   "metadata": {},
   "source": [
    "Now find the index of the item ``H`` and assign it to the variable ``i``, then use ``i`` to print the item at that index:"
   ]
  },
  {
   "cell_type": "code",
   "execution_count": 121,
   "metadata": {},
   "outputs": [
    {
     "name": "stdout",
     "output_type": "stream",
     "text": [
      "4\n"
     ]
    }
   ],
   "source": [
    "i = my_first_list.index('H')\n",
    "print(i)\n"
   ]
  },
  {
   "cell_type": "markdown",
   "metadata": {},
   "source": [
    "## Slicing\n",
    "\n",
    "We can also get multiple items in the list through \"slicing\" using the ``:`` operator. The syntax is:\n",
    "\n",
    "- ``list_name[a:b]`` to obtain the items from index ``a`` (inclusive) to index ``b`` (not inclusive),\n",
    "- ``list_name[a:]`` to obtain the items from index ``a`` (inclusive) to the end of the list,\n",
    "- ``list_name[:b]`` to obtain the items from the start of the list to index ``b`` (not inclusive).\n",
    "\n",
    "For example:"
   ]
  },
  {
   "cell_type": "code",
   "execution_count": 122,
   "metadata": {},
   "outputs": [
    {
     "name": "stdout",
     "output_type": "stream",
     "text": [
      "[6]\n",
      "[6, 'H', 8.5]\n",
      "[0, 4, 5, 6, 'H', 8.5]\n",
      "[3, 1, 'item', True, 1, 'item', True]\n"
     ]
    }
   ],
   "source": [
    "print(my_first_list[3:4])\n",
    "print(my_first_list[3:6])\n",
    "print(my_first_list[:6])\n",
    "print(my_first_list[8:])"
   ]
  },
  {
   "cell_type": "markdown",
   "metadata": {},
   "source": [
    "Also, negative indices refer to positions counting backwards from the end of the list -- i.e. ``-1`` refers to the last item, ``-2`` refers to the second-last item, etc... For example:"
   ]
  },
  {
   "cell_type": "code",
   "execution_count": 123,
   "metadata": {},
   "outputs": [
    {
     "name": "stdout",
     "output_type": "stream",
     "text": [
      "True\n",
      "[1, 'item', True]\n"
     ]
    }
   ],
   "source": [
    "print(my_first_list[-1])\n",
    "print(my_first_list[-3:])"
   ]
  },
  {
   "cell_type": "markdown",
   "metadata": {},
   "source": [
    "Note that a string in Python can be thought of as a list of characters, and can be sliced accordingly:"
   ]
  },
  {
   "cell_type": "code",
   "execution_count": 124,
   "metadata": {},
   "outputs": [
    {
     "data": {
      "text/plain": [
       "'Hel'"
      ]
     },
     "execution_count": 124,
     "metadata": {},
     "output_type": "execute_result"
    }
   ],
   "source": [
    "text = 'Hello World!'\n",
    "text[:3]"
   ]
  },
  {
   "cell_type": "markdown",
   "metadata": {},
   "source": [
    "Now use slicing on the ``text`` variable to obtain a string containing the word ``\"World\"``, without the exclamation point:"
   ]
  },
  {
   "cell_type": "code",
   "execution_count": 125,
   "metadata": {},
   "outputs": [
    {
     "data": {
      "text/plain": [
       "'World'"
      ]
     },
     "execution_count": 125,
     "metadata": {},
     "output_type": "execute_result"
    }
   ],
   "source": [
    "text[6:11]"
   ]
  },
  {
   "cell_type": "markdown",
   "metadata": {},
   "source": [
    "Now obtain the word ``\"World\"`` again, but this time, do it using negative index values only:"
   ]
  },
  {
   "cell_type": "code",
   "execution_count": 126,
   "metadata": {},
   "outputs": [
    {
     "data": {
      "text/plain": [
       "'World'"
      ]
     },
     "execution_count": 126,
     "metadata": {},
     "output_type": "execute_result"
    }
   ],
   "source": [
    "text[-6:-1]"
   ]
  },
  {
   "cell_type": "markdown",
   "metadata": {},
   "source": [
    "Note that items in lists can also be reassigned to different values:"
   ]
  },
  {
   "cell_type": "code",
   "execution_count": 127,
   "metadata": {},
   "outputs": [
    {
     "name": "stdout",
     "output_type": "stream",
     "text": [
      "['Hello World', 4, 5, 6, 'H', 8.5, 3, 3, 3, 1, 'item', True, 1, 'item', True]\n"
     ]
    }
   ],
   "source": [
    "my_first_list[0] = 'Hello World'\n",
    "print(my_first_list)"
   ]
  },
  {
   "cell_type": "markdown",
   "metadata": {},
   "source": [
    "Multiple items can be reassigned through slicing. Try to guess what each of these cells will do before running them:"
   ]
  },
  {
   "cell_type": "code",
   "execution_count": 128,
   "metadata": {},
   "outputs": [
    {
     "name": "stdout",
     "output_type": "stream",
     "text": [
      "['H', 'e', 'l', 5, 6, 'H', 8.5, 3, 3, 3, 1, 'item', True, 1, 'item', True]\n",
      "['H', 'e', 'l', 'l', 'o', ' ', 'W', 'o', 'r', 'l', 'd', 'l', 5, 6, 'H', 8.5, 3, 3, 3, 1, 'item', True, 1, 'item', True]\n"
     ]
    }
   ],
   "source": [
    "my_first_list[0:2] = 'Hel'\n",
    "print(my_first_list)\n",
    "\n",
    "my_first_list[0:2] = 'Hello World'\n",
    "print(my_first_list)"
   ]
  },
  {
   "cell_type": "code",
   "execution_count": 129,
   "metadata": {},
   "outputs": [
    {
     "name": "stdout",
     "output_type": "stream",
     "text": [
      "['H', 'e', 'l', 'l', 'o', ' ', 'W', 'o', 'r', 'l', 'd', 'l', 5, 6, 'H', 8]\n"
     ]
    }
   ],
   "source": [
    "my_first_list[-10:] = [8]\n",
    "print(my_first_list)"
   ]
  },
  {
   "cell_type": "markdown",
   "metadata": {},
   "source": [
    "We can also print every *n*th item using the syntax ``<variable_name>[::<n>]``. For example:"
   ]
  },
  {
   "cell_type": "code",
   "execution_count": 130,
   "metadata": {},
   "outputs": [
    {
     "name": "stdout",
     "output_type": "stream",
     "text": [
      "['H', 'l', 'W', 'l', 5, 8]\n"
     ]
    }
   ],
   "source": [
    "print(my_first_list[::3])"
   ]
  },
  {
   "cell_type": "markdown",
   "metadata": {},
   "source": [
    "Lists which only contain strings can be concatenated using the ``.join()`` string method like so:"
   ]
  },
  {
   "cell_type": "code",
   "execution_count": 131,
   "metadata": {},
   "outputs": [
    {
     "name": "stdout",
     "output_type": "stream",
     "text": [
      "['Mary', 'had', 'a', 'little', 'lamb', '7']\n",
      "Mary had a little lamb 7\n"
     ]
    }
   ],
   "source": [
    "l = ['Mary', 'had', 'a', 'little', 'lamb', '7']\n",
    "print(l)\n",
    "print(' '.join(l))"
   ]
  },
  {
   "cell_type": "markdown",
   "metadata": {},
   "source": [
    "Also, the reverse can be done using the ``.split()`` string method, which creates a list of items based on a string. The usage is of the form: ``<string_to_be_split>.split(<pattern>)``, where the splitting is done at the specified string pattern.\n",
    "\n",
    "For example:"
   ]
  },
  {
   "cell_type": "code",
   "execution_count": 132,
   "metadata": {},
   "outputs": [
    {
     "data": {
      "text/plain": [
       "['Her', 'fleece', 'was', 'white', 'as', 'snow']"
      ]
     },
     "execution_count": 132,
     "metadata": {},
     "output_type": "execute_result"
    }
   ],
   "source": [
    "s = 'Her fleece was white as snow'\n",
    "s.split(' ')  # This splits the string wherever a single whitespace is found"
   ]
  },
  {
   "cell_type": "markdown",
   "metadata": {},
   "source": [
    "And different string patterns lead to different splitting behaviour. Again, try to guess what each of these cells will do before running them:"
   ]
  },
  {
   "cell_type": "code",
   "execution_count": 133,
   "metadata": {},
   "outputs": [
    {
     "data": {
      "text/plain": [
       "['Her fleece', 'as', 'hite as snow']"
      ]
     },
     "execution_count": 133,
     "metadata": {},
     "output_type": "execute_result"
    }
   ],
   "source": [
    "s.split(' w')"
   ]
  },
  {
   "cell_type": "code",
   "execution_count": 134,
   "metadata": {},
   "outputs": [
    {
     "data": {
      "text/plain": [
       "['Her fleece', 'white as snow']"
      ]
     },
     "execution_count": 134,
     "metadata": {},
     "output_type": "execute_result"
    }
   ],
   "source": [
    "s.split(' was ')"
   ]
  },
  {
   "cell_type": "markdown",
   "metadata": {},
   "source": [
    "## Exercise 1:\n",
    "\n",
    "In the cell below, do the following:\n",
    "\n",
    "1. Create a string variable ``my_name`` which contains your full name.\n",
    "2. Print the 4th item of the string.\n",
    "4. Print items from the second item onwards.\n",
    "5. Print the 3rd-last item.\n",
    "6. Print every character up to, but not including, the last two items.\n",
    "7. Print every third item.\n",
    "8. Print your name in reverse.\n",
    "9. Find the *index* of the first instance of each vowel that appears in your name.\n",
    "10. Use those indices to print every character from the first instance of each vowel onwards."
   ]
  },
  {
   "cell_type": "code",
   "execution_count": 138,
   "metadata": {},
   "outputs": [
    {
     "name": "stdout",
     "output_type": "stream",
     "text": [
      "My name is Aman Abidi\n",
      "n\n",
      "man Abidi\n",
      "i\n",
      "Aman Abi\n",
      "Anbi\n",
      "idibA namA\n",
      "0\n",
      "Aman Abidi\n",
      "7\n",
      "idi\n"
     ]
    }
   ],
   "source": [
    "#1.Create a string variable ``my_name`` which contains your full name.\n",
    "my_name= 'Aman Abidi'\n",
    "print('My name is '+my_name)\n",
    "# 2. Print the 4th item of the string.\n",
    "print(my_name[3])\n",
    "#3. Print items from the second item onwards.\n",
    "print(my_name[1:])\n",
    "# 4. Print the 3rd-last item.\n",
    "print(my_name[-3])\n",
    "# 5. Print every character up to, but not including, the last two items.\n",
    "print(my_name[:-2])\n",
    "# 6. Print every third item.\n",
    "print(my_name[::3])\n",
    "# 7. Print your name in reverse.\n",
    "print(my_name[::-1])\n",
    "# 8. Find the *index* of the first instance of each vowel that appears in your name.\n",
    "print(my_name.index('A'))\n",
    "print(my_name[my_name.index('A'):])\n",
    "# 9. Use those indices to print every character from the first instance of each vowel onwards.\n",
    "print(my_name.index('i'))\n",
    "print(my_name[my_name.index('i'):])\n"
   ]
  },
  {
   "cell_type": "markdown",
   "metadata": {},
   "source": [
    "## Tuples\n",
    "\n",
    "Tuples are very similar to lists, except that they are \"immutable\"; i.e. each item in a tuple cannot be replaced by another item. We use round brackets ``(...)`` instead of square brackets ``[...]`` to declare a tuple:"
   ]
  },
  {
   "cell_type": "code",
   "execution_count": 139,
   "metadata": {},
   "outputs": [],
   "source": [
    "my_first_tuple = (4, 5, 'Hello', 2.43)"
   ]
  },
  {
   "cell_type": "markdown",
   "metadata": {},
   "source": [
    "Now print the value of this tuple, as well as its data type:"
   ]
  },
  {
   "cell_type": "code",
   "execution_count": 140,
   "metadata": {},
   "outputs": [
    {
     "name": "stdout",
     "output_type": "stream",
     "text": [
      "(4, 5, 'Hello', 2.43)\n",
      "<class 'tuple'>\n"
     ]
    }
   ],
   "source": [
    "print(my_first_tuple)\n",
    "print(type(my_first_tuple))"
   ]
  },
  {
   "cell_type": "markdown",
   "metadata": {},
   "source": [
    "Recall that with lists we can replace items:"
   ]
  },
  {
   "cell_type": "code",
   "execution_count": 141,
   "metadata": {},
   "outputs": [
    {
     "name": "stdout",
     "output_type": "stream",
     "text": [
      "[307, 'e', 'l', 'l', 'o', ' ', 'W', 'o', 'r', 'l', 'd', 'l', 5, 6, 'H', 8]\n"
     ]
    }
   ],
   "source": [
    "my_first_list[0] = 307\n",
    "print(my_first_list)"
   ]
  },
  {
   "cell_type": "markdown",
   "metadata": {},
   "source": [
    "but this is not possible for tuples (note that the following error cannot be fixed, because changing a tuple is impossible):"
   ]
  },
  {
   "cell_type": "code",
   "execution_count": 142,
   "metadata": {},
   "outputs": [
    {
     "ename": "TypeError",
     "evalue": "'tuple' object does not support item assignment",
     "output_type": "error",
     "traceback": [
      "\u001b[1;31m---------------------------------------------------------------------------\u001b[0m",
      "\u001b[1;31mTypeError\u001b[0m                                 Traceback (most recent call last)",
      "\u001b[1;32m<ipython-input-142-749af35781a5>\u001b[0m in \u001b[0;36m<module>\u001b[1;34m\u001b[0m\n\u001b[1;32m----> 1\u001b[1;33m \u001b[0mmy_first_tuple\u001b[0m\u001b[1;33m[\u001b[0m\u001b[1;36m0\u001b[0m\u001b[1;33m]\u001b[0m \u001b[1;33m=\u001b[0m \u001b[1;36m307\u001b[0m\u001b[1;33m\u001b[0m\u001b[1;33m\u001b[0m\u001b[0m\n\u001b[0m",
      "\u001b[1;31mTypeError\u001b[0m: 'tuple' object does not support item assignment"
     ]
    }
   ],
   "source": [
    "my_first_tuple[0] = 307"
   ]
  },
  {
   "cell_type": "markdown",
   "metadata": {},
   "source": [
    "Note that we can convert a tuple to a list:"
   ]
  },
  {
   "cell_type": "code",
   "execution_count": 143,
   "metadata": {},
   "outputs": [
    {
     "name": "stdout",
     "output_type": "stream",
     "text": [
      "[4, 5, 'Hello', 2.43]\n",
      "<class 'list'>\n"
     ]
    }
   ],
   "source": [
    "l = list(my_first_tuple)\n",
    "print(l)\n",
    "print(type(l))"
   ]
  },
  {
   "cell_type": "markdown",
   "metadata": {},
   "source": [
    "and vice-versa:"
   ]
  },
  {
   "cell_type": "code",
   "execution_count": 144,
   "metadata": {},
   "outputs": [
    {
     "name": "stdout",
     "output_type": "stream",
     "text": [
      "(307, 'e', 'l', 'l', 'o', ' ', 'W', 'o', 'r', 'l', 'd', 'l', 5, 6, 'H', 8)\n",
      "<class 'tuple'>\n"
     ]
    }
   ],
   "source": [
    "# Convert the list variable \"my_first_list\" to a tuple\n",
    "t = tuple(my_first_list)\n",
    "\n",
    "print(t)\n",
    "print(type(t))"
   ]
  }
 ],
 "metadata": {
  "kernelspec": {
   "display_name": "Python 3",
   "language": "python",
   "name": "python3"
  },
  "language_info": {
   "codemirror_mode": {
    "name": "ipython",
    "version": 3
   },
   "file_extension": ".py",
   "mimetype": "text/x-python",
   "name": "python",
   "nbconvert_exporter": "python",
   "pygments_lexer": "ipython3",
   "version": "3.7.6"
  }
 },
 "nbformat": 4,
 "nbformat_minor": 4
}
